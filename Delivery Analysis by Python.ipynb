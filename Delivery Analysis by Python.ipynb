{
 "cells": [
  {
   "cell_type": "markdown",
   "id": "ed2ad5da",
   "metadata": {},
   "source": [
    "## Library"
   ]
  },
  {
   "cell_type": "code",
   "execution_count": 1,
   "id": "e5481d68",
   "metadata": {},
   "outputs": [],
   "source": [
    "import pandas as pd\n",
    "import numpy as np\n",
    "import matplotlib.pyplot as plt\n",
    "import seaborn as sns\n",
    "import plotly.express as px\n",
    "%matplotlib inline\n",
    "import warnings\n",
    "warnings.filterwarnings('ignore')"
   ]
  },
  {
   "cell_type": "code",
   "execution_count": 2,
   "id": "7b67e4a2",
   "metadata": {},
   "outputs": [],
   "source": [
    "olist_geolocation = pd.read_csv(r'...\\olist_geolocation_dataset.csv')\n",
    "order_items = pd.read_csv(r'...\\olist_order_items_dataset.csv')\n",
    "order_payments = pd.read_csv(r'...\\olist_order_payments_dataset.csv')\n",
    "orders = pd.read_csv(r'...\\olist_orders_dataset.csv')\n",
    "products = pd.read_csv(r'...\\olist_products_dataset.csv')\n",
    "customers = pd.read_csv(r'...\\olist_customers_dataset.csv')"
   ]
  },
  {
   "cell_type": "markdown",
   "id": "b829ae79",
   "metadata": {},
   "source": [
    "## Check the data and data clean"
   ]
  },
  {
   "cell_type": "code",
   "execution_count": 3,
   "id": "b94d4bb1",
   "metadata": {
    "scrolled": true
   },
   "outputs": [
    {
     "name": "stdout",
     "output_type": "stream",
     "text": [
      "<class 'pandas.core.frame.DataFrame'>\n",
      "RangeIndex: 1000163 entries, 0 to 1000162\n",
      "Data columns (total 5 columns):\n",
      " #   Column                       Non-Null Count    Dtype  \n",
      "---  ------                       --------------    -----  \n",
      " 0   geolocation_zip_code_prefix  1000163 non-null  int64  \n",
      " 1   geolocation_lat              1000163 non-null  float64\n",
      " 2   geolocation_lng              1000163 non-null  float64\n",
      " 3   geolocation_city             1000163 non-null  object \n",
      " 4   geolocation_state            1000163 non-null  object \n",
      "dtypes: float64(2), int64(1), object(2)\n",
      "memory usage: 38.2+ MB\n"
     ]
    }
   ],
   "source": [
    "olist_geolocation.info()"
   ]
  },
  {
   "cell_type": "code",
   "execution_count": 4,
   "id": "4098c2cd",
   "metadata": {},
   "outputs": [
    {
     "data": {
      "text/html": [
       "<div>\n",
       "<style scoped>\n",
       "    .dataframe tbody tr th:only-of-type {\n",
       "        vertical-align: middle;\n",
       "    }\n",
       "\n",
       "    .dataframe tbody tr th {\n",
       "        vertical-align: top;\n",
       "    }\n",
       "\n",
       "    .dataframe thead th {\n",
       "        text-align: right;\n",
       "    }\n",
       "</style>\n",
       "<table border=\"1\" class=\"dataframe\">\n",
       "  <thead>\n",
       "    <tr style=\"text-align: right;\">\n",
       "      <th></th>\n",
       "      <th>geolocation_zip_code_prefix</th>\n",
       "      <th>geolocation_lat</th>\n",
       "      <th>geolocation_lng</th>\n",
       "    </tr>\n",
       "  </thead>\n",
       "  <tbody>\n",
       "    <tr>\n",
       "      <th>count</th>\n",
       "      <td>1.000163e+06</td>\n",
       "      <td>1.000163e+06</td>\n",
       "      <td>1.000163e+06</td>\n",
       "    </tr>\n",
       "    <tr>\n",
       "      <th>mean</th>\n",
       "      <td>3.657417e+04</td>\n",
       "      <td>-2.117615e+01</td>\n",
       "      <td>-4.639054e+01</td>\n",
       "    </tr>\n",
       "    <tr>\n",
       "      <th>std</th>\n",
       "      <td>3.054934e+04</td>\n",
       "      <td>5.715866e+00</td>\n",
       "      <td>4.269748e+00</td>\n",
       "    </tr>\n",
       "    <tr>\n",
       "      <th>min</th>\n",
       "      <td>1.001000e+03</td>\n",
       "      <td>-3.660537e+01</td>\n",
       "      <td>-1.014668e+02</td>\n",
       "    </tr>\n",
       "    <tr>\n",
       "      <th>25%</th>\n",
       "      <td>1.107500e+04</td>\n",
       "      <td>-2.360355e+01</td>\n",
       "      <td>-4.857317e+01</td>\n",
       "    </tr>\n",
       "    <tr>\n",
       "      <th>50%</th>\n",
       "      <td>2.653000e+04</td>\n",
       "      <td>-2.291938e+01</td>\n",
       "      <td>-4.663788e+01</td>\n",
       "    </tr>\n",
       "    <tr>\n",
       "      <th>75%</th>\n",
       "      <td>6.350400e+04</td>\n",
       "      <td>-1.997962e+01</td>\n",
       "      <td>-4.376771e+01</td>\n",
       "    </tr>\n",
       "    <tr>\n",
       "      <th>max</th>\n",
       "      <td>9.999000e+04</td>\n",
       "      <td>4.506593e+01</td>\n",
       "      <td>1.211054e+02</td>\n",
       "    </tr>\n",
       "  </tbody>\n",
       "</table>\n",
       "</div>"
      ],
      "text/plain": [
       "       geolocation_zip_code_prefix  geolocation_lat  geolocation_lng\n",
       "count                 1.000163e+06     1.000163e+06     1.000163e+06\n",
       "mean                  3.657417e+04    -2.117615e+01    -4.639054e+01\n",
       "std                   3.054934e+04     5.715866e+00     4.269748e+00\n",
       "min                   1.001000e+03    -3.660537e+01    -1.014668e+02\n",
       "25%                   1.107500e+04    -2.360355e+01    -4.857317e+01\n",
       "50%                   2.653000e+04    -2.291938e+01    -4.663788e+01\n",
       "75%                   6.350400e+04    -1.997962e+01    -4.376771e+01\n",
       "max                   9.999000e+04     4.506593e+01     1.211054e+02"
      ]
     },
     "execution_count": 4,
     "metadata": {},
     "output_type": "execute_result"
    }
   ],
   "source": [
    "olist_geolocation.describe()"
   ]
  },
  {
   "cell_type": "code",
   "execution_count": 5,
   "id": "9d2878b3",
   "metadata": {},
   "outputs": [
    {
     "data": {
      "text/plain": [
       "array(['sao paulo', 'são paulo', 'sao bernardo do campo', ..., 'ciríaco',\n",
       "       'estação', 'vila lângaro'], dtype=object)"
      ]
     },
     "execution_count": 5,
     "metadata": {},
     "output_type": "execute_result"
    }
   ],
   "source": [
    "olist_geolocation['geolocation_city'].unique()"
   ]
  },
  {
   "cell_type": "code",
   "execution_count": 6,
   "id": "306a1b4f",
   "metadata": {},
   "outputs": [],
   "source": [
    "# Revise city name são paulo to sao paulo\n",
    "olist_geolocation.replace(to_replace='são paulo',value='sao paulo',inplace=True)"
   ]
  },
  {
   "cell_type": "code",
   "execution_count": 7,
   "id": "ab983bdd",
   "metadata": {},
   "outputs": [
    {
     "name": "stdout",
     "output_type": "stream",
     "text": [
      "<class 'pandas.core.frame.DataFrame'>\n",
      "RangeIndex: 99441 entries, 0 to 99440\n",
      "Data columns (total 8 columns):\n",
      " #   Column                         Non-Null Count  Dtype \n",
      "---  ------                         --------------  ----- \n",
      " 0   order_id                       99441 non-null  object\n",
      " 1   customer_id                    99441 non-null  object\n",
      " 2   order_status                   99441 non-null  object\n",
      " 3   order_purchase_timestamp       99441 non-null  object\n",
      " 4   order_approved_at              99281 non-null  object\n",
      " 5   order_delivered_carrier_date   97658 non-null  object\n",
      " 6   order_delivered_customer_date  96476 non-null  object\n",
      " 7   order_estimated_delivery_date  99441 non-null  object\n",
      "dtypes: object(8)\n",
      "memory usage: 6.1+ MB\n"
     ]
    }
   ],
   "source": [
    "orders.info()"
   ]
  },
  {
   "cell_type": "code",
   "execution_count": 8,
   "id": "f3de024f",
   "metadata": {},
   "outputs": [],
   "source": [
    "# change date columns from object to date\n",
    "orders[['order_purchase_timestamp','order_approved_at','order_delivered_carrier_date','order_delivered_customer_date','order_estimated_delivery_date']] = orders[['order_purchase_timestamp','order_approved_at','order_delivered_carrier_date','order_delivered_customer_date','order_estimated_delivery_date']].apply(pd.to_datetime)"
   ]
  },
  {
   "cell_type": "code",
   "execution_count": 9,
   "id": "bdc88064",
   "metadata": {},
   "outputs": [
    {
     "name": "stdout",
     "output_type": "stream",
     "text": [
      "<class 'pandas.core.frame.DataFrame'>\n",
      "RangeIndex: 99441 entries, 0 to 99440\n",
      "Data columns (total 8 columns):\n",
      " #   Column                         Non-Null Count  Dtype         \n",
      "---  ------                         --------------  -----         \n",
      " 0   order_id                       99441 non-null  object        \n",
      " 1   customer_id                    99441 non-null  object        \n",
      " 2   order_status                   99441 non-null  object        \n",
      " 3   order_purchase_timestamp       99441 non-null  datetime64[ns]\n",
      " 4   order_approved_at              99281 non-null  datetime64[ns]\n",
      " 5   order_delivered_carrier_date   97658 non-null  datetime64[ns]\n",
      " 6   order_delivered_customer_date  96476 non-null  datetime64[ns]\n",
      " 7   order_estimated_delivery_date  99441 non-null  datetime64[ns]\n",
      "dtypes: datetime64[ns](5), object(3)\n",
      "memory usage: 6.1+ MB\n"
     ]
    }
   ],
   "source": [
    "orders.info()"
   ]
  },
  {
   "cell_type": "code",
   "execution_count": 10,
   "id": "8317a366",
   "metadata": {},
   "outputs": [],
   "source": [
    "# Only Delivery shipments could check the delivery time\n",
    "delivered = orders[orders['order_status']=='delivered'].dropna()"
   ]
  },
  {
   "cell_type": "code",
   "execution_count": 11,
   "id": "0bac2164",
   "metadata": {},
   "outputs": [],
   "source": [
    "# undelivered shipments\n",
    "undelivered = orders[orders['order_status']!='delivered']"
   ]
  },
  {
   "cell_type": "code",
   "execution_count": 12,
   "id": "5f311ad0",
   "metadata": {},
   "outputs": [
    {
     "name": "stdout",
     "output_type": "stream",
     "text": [
      "undelivered_rate :  0.03\n"
     ]
    }
   ],
   "source": [
    "# check the undelivered_rate\n",
    "undelivered_rate = undelivered['order_id'].count()/orders['order_id'].count()\n",
    "print(\"undelivered_rate : %5.2f\" % undelivered_rate)"
   ]
  },
  {
   "cell_type": "code",
   "execution_count": 13,
   "id": "7583d261",
   "metadata": {
    "scrolled": true
   },
   "outputs": [
    {
     "name": "stdout",
     "output_type": "stream",
     "text": [
      "not_approve_rate :  0.05, not_shipped_rate :  0.55, not_delivered_rate :  0.40\n"
     ]
    }
   ],
   "source": [
    "total = undelivered['order_id'].count()\n",
    "not_approve = undelivered['order_approved_at'].isna().sum()\n",
    "not_shipped = undelivered['order_delivered_carrier_date'].isna().sum() - undelivered['order_approved_at'].isna().sum()\n",
    "not_delivered = undelivered['order_delivered_customer_date'].isna().sum() - undelivered['order_delivered_carrier_date'].isna().sum()\n",
    "print(\"not_approve_rate : %5.2f, not_shipped_rate : %5.2f, not_delivered_rate : %5.2f\" % (not_approve/total,not_shipped/total,not_delivered/total))"
   ]
  },
  {
   "cell_type": "code",
   "execution_count": 14,
   "id": "96f9496d",
   "metadata": {
    "scrolled": true
   },
   "outputs": [
    {
     "data": {
      "text/plain": [
       "Text(0.5, 1.0, 'Reason of undelivered orders')"
      ]
     },
     "execution_count": 14,
     "metadata": {},
     "output_type": "execute_result"
    },
    {
     "data": {
      "image/png": "[encoded data removed]",
      "text/plain": [
       "<Figure size 576x288 with 1 Axes>"
      ]
     },
     "metadata": {
      "needs_background": "light"
     },
     "output_type": "display_data"
    }
   ],
   "source": [
    "lst1 = ['not_approve', 'not_shipped','not_delivered']\n",
    "lst2 = [not_approve, not_shipped, not_delivered] \n",
    "df = pd.DataFrame(list(zip(lst1, lst2)), columns =['Reason', 'value']) \n",
    "fig = plt.subplots(figsize=(8, 4))\n",
    "sns.barplot(x='Reason',y='value',data=df).set_title('Reason of undelivered orders', fontsize=18)"
   ]
  },
  {
   "cell_type": "markdown",
   "id": "1fa7affe",
   "metadata": {},
   "source": [
    "## Combine data in one file"
   ]
  },
  {
   "cell_type": "code",
   "execution_count": 15,
   "id": "1af35d68",
   "metadata": {},
   "outputs": [],
   "source": [
    "data_delivered = pd.merge(delivered,customers,on='customer_id',how='left')"
   ]
  },
  {
   "cell_type": "code",
   "execution_count": 16,
   "id": "1ece089d",
   "metadata": {},
   "outputs": [],
   "source": [
    "orders_products = pd.merge(order_items,data_delivered,on='order_id',how='left')"
   ]
  },
  {
   "cell_type": "code",
   "execution_count": 17,
   "id": "da6ef328",
   "metadata": {},
   "outputs": [],
   "source": [
    "products = pd.merge(orders_products,products,on='product_id',how='left')"
   ]
  },
  {
   "cell_type": "code",
   "execution_count": 18,
   "id": "722c16c9",
   "metadata": {},
   "outputs": [],
   "source": [
    "data = pd.merge(products,order_payments,on='order_id',how='left')"
   ]
  },
  {
   "cell_type": "code",
   "execution_count": 19,
   "id": "443f7548",
   "metadata": {},
   "outputs": [
    {
     "name": "stdout",
     "output_type": "stream",
     "text": [
      "<class 'pandas.core.frame.DataFrame'>\n",
      "Int64Index: 117604 entries, 0 to 117603\n",
      "Data columns (total 30 columns):\n",
      " #   Column                         Non-Null Count   Dtype         \n",
      "---  ------                         --------------   -----         \n",
      " 0   order_id                       117604 non-null  object        \n",
      " 1   order_item_id                  117604 non-null  int64         \n",
      " 2   product_id                     117604 non-null  object        \n",
      " 3   seller_id                      117604 non-null  object        \n",
      " 4   shipping_limit_date            117604 non-null  object        \n",
      " 5   price                          117604 non-null  float64       \n",
      " 6   freight_value                  117604 non-null  float64       \n",
      " 7   customer_id                    115014 non-null  object        \n",
      " 8   order_status                   115014 non-null  object        \n",
      " 9   order_purchase_timestamp       115014 non-null  datetime64[ns]\n",
      " 10  order_approved_at              115014 non-null  datetime64[ns]\n",
      " 11  order_delivered_carrier_date   115014 non-null  datetime64[ns]\n",
      " 12  order_delivered_customer_date  115014 non-null  datetime64[ns]\n",
      " 13  order_estimated_delivery_date  115014 non-null  datetime64[ns]\n",
      " 14  customer_unique_id             115014 non-null  object        \n",
      " 15  customer_zip_code_prefix       115014 non-null  float64       \n",
      " 16  customer_city                  115014 non-null  object        \n",
      " 17  customer_state                 115014 non-null  object        \n",
      " 18  product_category_name          115906 non-null  object        \n",
      " 19  product_name_lenght            115906 non-null  float64       \n",
      " 20  product_description_lenght     115906 non-null  float64       \n",
      " 21  product_photos_qty             115906 non-null  float64       \n",
      " 22  product_weight_g               117584 non-null  float64       \n",
      " 23  product_length_cm              117584 non-null  float64       \n",
      " 24  product_height_cm              117584 non-null  float64       \n",
      " 25  product_width_cm               117584 non-null  float64       \n",
      " 26  payment_sequential             117601 non-null  float64       \n",
      " 27  payment_type                   117601 non-null  object        \n",
      " 28  payment_installments           117601 non-null  float64       \n",
      " 29  payment_value                  117601 non-null  float64       \n",
      "dtypes: datetime64[ns](5), float64(13), int64(1), object(11)\n",
      "memory usage: 27.8+ MB\n"
     ]
    }
   ],
   "source": [
    "data.info()"
   ]
  },
  {
   "cell_type": "code",
   "execution_count": 20,
   "id": "78cc9732",
   "metadata": {},
   "outputs": [],
   "source": [
    "data['shipping_limit_date']=pd.to_datetime(data['shipping_limit_date'])"
   ]
  },
  {
   "cell_type": "code",
   "execution_count": 21,
   "id": "137a07b4",
   "metadata": {},
   "outputs": [],
   "source": [
    "# Export data,csv to data visiulization on Tableau\n",
    "import os\n",
    "os.makedirs(r'C:\\Users\\apolo\\Desktop', exist_ok=True)  \n",
    "data.to_csv(r'C:\\Users\\apolo\\Desktop\\delivered.csv')  "
   ]
  },
  {
   "cell_type": "code",
   "execution_count": 22,
   "id": "823584f2",
   "metadata": {},
   "outputs": [
    {
     "data": {
      "text/plain": [
       "4086"
      ]
     },
     "execution_count": 22,
     "metadata": {},
     "output_type": "execute_result"
    }
   ],
   "source": [
    "len(data['customer_city'].unique())"
   ]
  },
  {
   "cell_type": "code",
   "execution_count": 23,
   "id": "3b51c33b",
   "metadata": {
    "scrolled": false
   },
   "outputs": [
    {
     "data": {
      "text/plain": [
       "sao paulo                18161\n",
       "rio de janeiro            7948\n",
       "belo horizonte            3188\n",
       "brasilia                  2405\n",
       "curitiba                  1785\n",
       "campinas                  1707\n",
       "porto alegre              1614\n",
       "salvador                  1473\n",
       "guarulhos                 1363\n",
       "sao bernardo do campo     1093\n",
       "niteroi                   1027\n",
       "santo andre                896\n",
       "osasco                     866\n",
       "santos                     835\n",
       "goiania                    834\n",
       "sao jose dos campos        796\n",
       "fortaleza                  728\n",
       "sorocaba                   712\n",
       "recife                     683\n",
       "jundiai                    670\n",
       "florianopolis              669\n",
       "ribeirao preto             593\n",
       "contagem                   503\n",
       "nova iguacu                503\n",
       "belem                      498\n",
       "juiz de fora               488\n",
       "barueri                    483\n",
       "mogi das cruzes            474\n",
       "sao goncalo                449\n",
       "uberlandia                 430\n",
       "Name: customer_city, dtype: int64"
      ]
     },
     "execution_count": 23,
     "metadata": {},
     "output_type": "execute_result"
    }
   ],
   "source": [
    "city_top30 = data['customer_city'].value_counts().head(30)\n",
    "city_top30"
   ]
  },
  {
   "cell_type": "markdown",
   "id": "c43fb554",
   "metadata": {},
   "source": [
    "## Data visiulization on orders distribution"
   ]
  },
  {
   "cell_type": "code",
   "execution_count": 25,
   "id": "575d9f83",
   "metadata": {},
   "outputs": [
    {
     "data": {
      "text/plain": [
       "Text(0, 0.5, 'No. of orders')"
      ]
     },
     "execution_count": 25,
     "metadata": {},
     "output_type": "execute_result"
    },
    {
     "data": {
      "image/png": "[encoded data removed]",
      "text/plain": [
       "<Figure size 1080x432 with 1 Axes>"
      ]
     },
     "metadata": {
      "needs_background": "light"
     },
     "output_type": "display_data"
    }
   ],
   "source": [
    "# Visualize the most orders top10 city\n",
    "city10 = list(data['customer_city'].value_counts().sort_values(ascending=False).head(10).index)\n",
    "city10_analysis=data[data['customer_city'].isin(city10)]\n",
    "\n",
    "fig, ax = plt.subplots(figsize=(15, 6))\n",
    "sns.countplot(x='customer_city', data=city10_analysis, ax=ax,order = city10_analysis['customer_city'].value_counts().index)\n",
    "ax.set_title('most orders top10 city', fontsize=16)\n",
    "ax.set_xlabel('States', fontsize=12)\n",
    "ax.set_ylabel('No. of orders', fontsize=12)\n"
   ]
  },
  {
   "cell_type": "code",
   "execution_count": 26,
   "id": "abe67053",
   "metadata": {
    "scrolled": false
   },
   "outputs": [
    {
     "data": {
      "text/plain": [
       "Text(0, 0.5, 'No. of orders')"
      ]
     },
     "execution_count": 26,
     "metadata": {},
     "output_type": "execute_result"
    },
    {
     "data": {
      "image/png": "[encoded data removed]",
      "text/plain": [
       "<Figure size 1080x432 with 1 Axes>"
      ]
     },
     "metadata": {
      "needs_background": "light"
     },
     "output_type": "display_data"
    }
   ],
   "source": [
    "# Visualize Orders of states\n",
    "fig, ax = plt.subplots(figsize=(15, 6))\n",
    "sns.countplot(x='customer_state', data=data, ax=ax, order = data['customer_state'].value_counts().index)\n",
    "ax.set_title('Orders of states', fontsize=16)\n",
    "ax.set_xlabel('States', fontsize=12)\n",
    "ax.set_ylabel('No. of orders', fontsize=12)"
   ]
  },
  {
   "cell_type": "markdown",
   "id": "1a0a9383",
   "metadata": {},
   "source": [
    "## Extract key factors for evaluating delivery performance"
   ]
  },
  {
   "cell_type": "code",
   "execution_count": 27,
   "id": "26a43251",
   "metadata": {},
   "outputs": [],
   "source": [
    "delivery_analysis = data[['order_id','product_id','shipping_limit_date','price', 'freight_value','order_purchase_timestamp', 'order_approved_at',\n",
    "       'order_delivered_carrier_date', 'order_delivered_customer_date',\n",
    "       'order_estimated_delivery_date','customer_city','product_weight_g','payment_value']]\n",
    "delivered_analysis = delivery_analysis[delivery_analysis['order_delivered_customer_date'].notnull()]\n",
    "delivered_analysis['processing time'] = (delivered_analysis['order_delivered_carrier_date'] - delivered_analysis['order_purchase_timestamp']).astype('timedelta64[D]')\n",
    "delivered_analysis['delay_processing_time'] = (delivered_analysis['shipping_limit_date'] - delivered_analysis['order_delivered_carrier_date']).astype('timedelta64[D]')\n",
    "delivered_analysis['shipping time'] = (delivered_analysis['order_delivered_customer_date'] - delivered_analysis['order_delivered_carrier_date']).astype('timedelta64[D]')\n",
    "delivered_analysis['delivery_time'] = (delivered_analysis['order_delivered_customer_date'] - delivered_analysis['order_purchase_timestamp']).astype('timedelta64[D]')\n",
    "delivered_analysis['Month'] = delivered_analysis['order_purchase_timestamp'].apply(lambda x: x.month)\n",
    "delivered_analysis['Year'] = delivered_analysis['order_purchase_timestamp'].apply(lambda x: x.year)\n",
    "delivered_analysis = delivered_analysis[delivered_analysis['processing time']>=0]"
   ]
  },
  {
   "cell_type": "code",
   "execution_count": 28,
   "id": "b5e384b1",
   "metadata": {
    "scrolled": true
   },
   "outputs": [
    {
     "data": {
      "text/html": [
       "<div>\n",
       "<style scoped>\n",
       "    .dataframe tbody tr th:only-of-type {\n",
       "        vertical-align: middle;\n",
       "    }\n",
       "\n",
       "    .dataframe tbody tr th {\n",
       "        vertical-align: top;\n",
       "    }\n",
       "\n",
       "    .dataframe thead th {\n",
       "        text-align: right;\n",
       "    }\n",
       "</style>\n",
       "<table border=\"1\" class=\"dataframe\">\n",
       "  <thead>\n",
       "    <tr style=\"text-align: right;\">\n",
       "      <th></th>\n",
       "      <th>order_id</th>\n",
       "      <th>product_id</th>\n",
       "      <th>shipping_limit_date</th>\n",
       "      <th>price</th>\n",
       "      <th>freight_value</th>\n",
       "      <th>order_purchase_timestamp</th>\n",
       "      <th>order_approved_at</th>\n",
       "      <th>order_delivered_carrier_date</th>\n",
       "      <th>order_delivered_customer_date</th>\n",
       "      <th>order_estimated_delivery_date</th>\n",
       "      <th>customer_city</th>\n",
       "      <th>product_weight_g</th>\n",
       "      <th>payment_value</th>\n",
       "      <th>processing time</th>\n",
       "      <th>delay_processing_time</th>\n",
       "      <th>shipping time</th>\n",
       "      <th>delivery_time</th>\n",
       "      <th>Month</th>\n",
       "      <th>Year</th>\n",
       "    </tr>\n",
       "  </thead>\n",
       "  <tbody>\n",
       "    <tr>\n",
       "      <th>0</th>\n",
       "      <td>00010242fe8c5a6d1ba2dd792cb16214</td>\n",
       "      <td>4244733e06e7ecb4970a6e2683c13e61</td>\n",
       "      <td>2017-09-19 09:45:35</td>\n",
       "      <td>58.90</td>\n",
       "      <td>13.29</td>\n",
       "      <td>2017-09-13 08:59:02</td>\n",
       "      <td>2017-09-13 09:45:35</td>\n",
       "      <td>2017-09-19 18:34:16</td>\n",
       "      <td>2017-09-20 23:43:48</td>\n",
       "      <td>2017-09-29</td>\n",
       "      <td>campos dos goytacazes</td>\n",
       "      <td>650.0</td>\n",
       "      <td>72.19</td>\n",
       "      <td>6.0</td>\n",
       "      <td>-1.0</td>\n",
       "      <td>1.0</td>\n",
       "      <td>7.0</td>\n",
       "      <td>9</td>\n",
       "      <td>2017</td>\n",
       "    </tr>\n",
       "    <tr>\n",
       "      <th>1</th>\n",
       "      <td>00018f77f2f0320c557190d7a144bdd3</td>\n",
       "      <td>e5f2d52b802189ee658865ca93d83a8f</td>\n",
       "      <td>2017-05-03 11:05:13</td>\n",
       "      <td>239.90</td>\n",
       "      <td>19.93</td>\n",
       "      <td>2017-04-26 10:53:06</td>\n",
       "      <td>2017-04-26 11:05:13</td>\n",
       "      <td>2017-05-04 14:35:00</td>\n",
       "      <td>2017-05-12 16:04:24</td>\n",
       "      <td>2017-05-15</td>\n",
       "      <td>santa fe do sul</td>\n",
       "      <td>30000.0</td>\n",
       "      <td>259.83</td>\n",
       "      <td>8.0</td>\n",
       "      <td>-2.0</td>\n",
       "      <td>8.0</td>\n",
       "      <td>16.0</td>\n",
       "      <td>4</td>\n",
       "      <td>2017</td>\n",
       "    </tr>\n",
       "    <tr>\n",
       "      <th>2</th>\n",
       "      <td>000229ec398224ef6ca0657da4fc703e</td>\n",
       "      <td>c777355d18b72b67abbeef9df44fd0fd</td>\n",
       "      <td>2018-01-18 14:48:30</td>\n",
       "      <td>199.00</td>\n",
       "      <td>17.87</td>\n",
       "      <td>2018-01-14 14:33:31</td>\n",
       "      <td>2018-01-14 14:48:30</td>\n",
       "      <td>2018-01-16 12:36:48</td>\n",
       "      <td>2018-01-22 13:19:16</td>\n",
       "      <td>2018-02-05</td>\n",
       "      <td>para de minas</td>\n",
       "      <td>3050.0</td>\n",
       "      <td>216.87</td>\n",
       "      <td>1.0</td>\n",
       "      <td>2.0</td>\n",
       "      <td>6.0</td>\n",
       "      <td>7.0</td>\n",
       "      <td>1</td>\n",
       "      <td>2018</td>\n",
       "    </tr>\n",
       "    <tr>\n",
       "      <th>3</th>\n",
       "      <td>00024acbcdf0a6daa1e931b038114c75</td>\n",
       "      <td>7634da152a4610f1595efa32f14722fc</td>\n",
       "      <td>2018-08-15 10:10:18</td>\n",
       "      <td>12.99</td>\n",
       "      <td>12.79</td>\n",
       "      <td>2018-08-08 10:00:35</td>\n",
       "      <td>2018-08-08 10:10:18</td>\n",
       "      <td>2018-08-10 13:28:00</td>\n",
       "      <td>2018-08-14 13:32:39</td>\n",
       "      <td>2018-08-20</td>\n",
       "      <td>atibaia</td>\n",
       "      <td>200.0</td>\n",
       "      <td>25.78</td>\n",
       "      <td>2.0</td>\n",
       "      <td>4.0</td>\n",
       "      <td>4.0</td>\n",
       "      <td>6.0</td>\n",
       "      <td>8</td>\n",
       "      <td>2018</td>\n",
       "    </tr>\n",
       "    <tr>\n",
       "      <th>4</th>\n",
       "      <td>00042b26cf59d7ce69dfabb4e55b4fd9</td>\n",
       "      <td>ac6c3623068f30de03045865e4e10089</td>\n",
       "      <td>2017-02-13 13:57:51</td>\n",
       "      <td>199.90</td>\n",
       "      <td>18.14</td>\n",
       "      <td>2017-02-04 13:57:51</td>\n",
       "      <td>2017-02-04 14:10:13</td>\n",
       "      <td>2017-02-16 09:46:09</td>\n",
       "      <td>2017-03-01 16:42:31</td>\n",
       "      <td>2017-03-17</td>\n",
       "      <td>varzea paulista</td>\n",
       "      <td>3750.0</td>\n",
       "      <td>218.04</td>\n",
       "      <td>11.0</td>\n",
       "      <td>-3.0</td>\n",
       "      <td>13.0</td>\n",
       "      <td>25.0</td>\n",
       "      <td>2</td>\n",
       "      <td>2017</td>\n",
       "    </tr>\n",
       "  </tbody>\n",
       "</table>\n",
       "</div>"
      ],
      "text/plain": [
       "                           order_id                        product_id  \\\n",
       "0  00010242fe8c5a6d1ba2dd792cb16214  4244733e06e7ecb4970a6e2683c13e61   \n",
       "1  00018f77f2f0320c557190d7a144bdd3  e5f2d52b802189ee658865ca93d83a8f   \n",
       "2  000229ec398224ef6ca0657da4fc703e  c777355d18b72b67abbeef9df44fd0fd   \n",
       "3  00024acbcdf0a6daa1e931b038114c75  7634da152a4610f1595efa32f14722fc   \n",
       "4  00042b26cf59d7ce69dfabb4e55b4fd9  ac6c3623068f30de03045865e4e10089   \n",
       "\n",
       "  shipping_limit_date   price  freight_value order_purchase_timestamp  \\\n",
       "0 2017-09-19 09:45:35   58.90          13.29      2017-09-13 08:59:02   \n",
       "1 2017-05-03 11:05:13  239.90          19.93      2017-04-26 10:53:06   \n",
       "2 2018-01-18 14:48:30  199.00          17.87      2018-01-14 14:33:31   \n",
       "3 2018-08-15 10:10:18   12.99          12.79      2018-08-08 10:00:35   \n",
       "4 2017-02-13 13:57:51  199.90          18.14      2017-02-04 13:57:51   \n",
       "\n",
       "    order_approved_at order_delivered_carrier_date  \\\n",
       "0 2017-09-13 09:45:35          2017-09-19 18:34:16   \n",
       "1 2017-04-26 11:05:13          2017-05-04 14:35:00   \n",
       "2 2018-01-14 14:48:30          2018-01-16 12:36:48   \n",
       "3 2018-08-08 10:10:18          2018-08-10 13:28:00   \n",
       "4 2017-02-04 14:10:13          2017-02-16 09:46:09   \n",
       "\n",
       "  order_delivered_customer_date order_estimated_delivery_date  \\\n",
       "0           2017-09-20 23:43:48                    2017-09-29   \n",
       "1           2017-05-12 16:04:24                    2017-05-15   \n",
       "2           2018-01-22 13:19:16                    2018-02-05   \n",
       "3           2018-08-14 13:32:39                    2018-08-20   \n",
       "4           2017-03-01 16:42:31                    2017-03-17   \n",
       "\n",
       "           customer_city  product_weight_g  payment_value  processing time  \\\n",
       "0  campos dos goytacazes             650.0          72.19              6.0   \n",
       "1        santa fe do sul           30000.0         259.83              8.0   \n",
       "2          para de minas            3050.0         216.87              1.0   \n",
       "3                atibaia             200.0          25.78              2.0   \n",
       "4        varzea paulista            3750.0         218.04             11.0   \n",
       "\n",
       "   delay_processing_time  shipping time  delivery_time  Month  Year  \n",
       "0                   -1.0            1.0            7.0      9  2017  \n",
       "1                   -2.0            8.0           16.0      4  2017  \n",
       "2                    2.0            6.0            7.0      1  2018  \n",
       "3                    4.0            4.0            6.0      8  2018  \n",
       "4                   -3.0           13.0           25.0      2  2017  "
      ]
     },
     "execution_count": 28,
     "metadata": {},
     "output_type": "execute_result"
    }
   ],
   "source": [
    "delivered_analysis.head()"
   ]
  },
  {
   "cell_type": "markdown",
   "id": "ca44c70d",
   "metadata": {},
   "source": [
    "## Data visiulization on Delivery Performance"
   ]
  },
  {
   "cell_type": "code",
   "execution_count": 29,
   "id": "bb58640b",
   "metadata": {
    "scrolled": false
   },
   "outputs": [
    {
     "data": {
      "text/plain": [
       "<AxesSubplot:xlabel='delivery_time', ylabel='count'>"
      ]
     },
     "execution_count": 29,
     "metadata": {},
     "output_type": "execute_result"
    },
    {
     "data": {
      "image/png": "[encoded data removed]",
      "text/plain": [
       "<Figure size 1296x432 with 1 Axes>"
      ]
     },
     "metadata": {
      "needs_background": "light"
     },
     "output_type": "display_data"
    }
   ],
   "source": [
    "# countplot of delivery performance \n",
    "fig, ax = plt.subplots(figsize=(18,6))\n",
    "sns.countplot(x='delivery_time',data=delivered_analysis[delivered_analysis['delivery_time']<=50],palette='viridis',ax=ax)"
   ]
  },
  {
   "cell_type": "code",
   "execution_count": 30,
   "id": "ea82adbf",
   "metadata": {},
   "outputs": [
    {
     "data": {
      "text/plain": [
       "Text(0, 0.5, 'No. of orders')"
      ]
     },
     "execution_count": 30,
     "metadata": {},
     "output_type": "execute_result"
    },
    {
     "data": {
      "image/png": "[encoded data removed]",
      "text/plain": [
       "<Figure size 1080x432 with 1 Axes>"
      ]
     },
     "metadata": {
      "needs_background": "light"
     },
     "output_type": "display_data"
    }
   ],
   "source": [
    "# Visualize the most orders top10 city\n",
    "city10 = list(data['customer_city'].value_counts().sort_values(ascending=False).head(10).index)\n",
    "city10_analysis=data[data['customer_city'].isin(city10)]\n",
    "\n",
    "fig, ax = plt.subplots(figsize=(15, 6))\n",
    "sns.countplot(x='customer_city', data=city10_analysis, ax=ax,order = city10_analysis['customer_city'].value_counts().index)\n",
    "ax.set_title('most orders top10 city', fontsize=16)\n",
    "ax.set_xlabel('States', fontsize=12)\n",
    "ax.set_ylabel('No. of orders', fontsize=12)"
   ]
  },
  {
   "cell_type": "code",
   "execution_count": 31,
   "id": "ba7e158b",
   "metadata": {
    "scrolled": true
   },
   "outputs": [
    {
     "data": {
      "text/plain": [
       "Text(0, 0.5, 'No. of orders')"
      ]
     },
     "execution_count": 31,
     "metadata": {},
     "output_type": "execute_result"
    },
    {
     "data": {
      "image/png": "[encoded data removed]",
      "text/plain": [
       "<Figure size 1080x432 with 1 Axes>"
      ]
     },
     "metadata": {
      "needs_background": "light"
     },
     "output_type": "display_data"
    }
   ],
   "source": [
    "# Visualize the delay-process orders distribution\n",
    "delay_process=list(delivered_analysis[delivered_analysis['delay_processing_time']<0]['delay_processing_time'].value_counts().head(10).index)\n",
    "delay_process_analysis = delivered_analysis[delivered_analysis['delay_processing_time'].isin(delay_process)]\n",
    "fig, ax = plt.subplots(figsize=(15, 6))\n",
    "sns.countplot(x='delay_processing_time', data=delay_process_analysis, ax=ax,order = delay_process_analysis['delay_processing_time'].value_counts().index)\n",
    "ax.set_title('delay-process orders distribution', fontsize=16)\n",
    "ax.set_xlabel('delay-process days', fontsize=12)\n",
    "ax.set_ylabel('No. of orders', fontsize=12)"
   ]
  },
  {
   "cell_type": "code",
   "execution_count": 32,
   "id": "b978bcd7",
   "metadata": {},
   "outputs": [
    {
     "data": {
      "text/plain": [
       "Text(0, 0.5, 'No. of orders')"
      ]
     },
     "execution_count": 32,
     "metadata": {},
     "output_type": "execute_result"
    },
    {
     "data": {
      "image/png": "[encoded data removed]",
      "text/plain": [
       "<Figure size 1080x432 with 1 Axes>"
      ]
     },
     "metadata": {
      "needs_background": "light"
     },
     "output_type": "display_data"
    }
   ],
   "source": [
    "# Visualize the shipping days distribution\n",
    "ship30 = list(delivered_analysis['shipping time'].value_counts().sort_values(ascending=False).head(30).index)\n",
    "ship30_analysis=delivered_analysis[delivered_analysis['shipping time'].isin(ship30)]\n",
    "fig, ax = plt.subplots(figsize=(15, 6))\n",
    "sns.countplot(x='shipping time', data=ship30_analysis, ax=ax,order = ship30_analysis['shipping time'].value_counts().index)\n",
    "ax.set_title('Shipping days distribution', fontsize=16)\n",
    "ax.set_xlabel('Shipping days', fontsize=12)\n",
    "ax.set_ylabel('No. of orders', fontsize=12)"
   ]
  },
  {
   "cell_type": "markdown",
   "id": "e5dba1b7",
   "metadata": {},
   "source": [
    "## Analyze relationship with on time delivery and other variables\n",
    "variable: customer_city,price,freight_value, Month, processing time,shipping time"
   ]
  },
  {
   "cell_type": "code",
   "execution_count": 33,
   "id": "ffbef601",
   "metadata": {},
   "outputs": [],
   "source": [
    "# Considering delivered in 10 days is on time, otherwise delay\n",
    "delivered_analysis['On_Time']=delivered_analysis['delivery_time'].apply(lambda x:1 if x <= 10 else 0)"
   ]
  },
  {
   "cell_type": "code",
   "execution_count": 34,
   "id": "19860e0d",
   "metadata": {},
   "outputs": [
    {
     "name": "stdout",
     "output_type": "stream",
     "text": [
      "ontime_rate :  0.54\n"
     ]
    }
   ],
   "source": [
    "ontime = delivered_analysis['On_Time'].sum()\n",
    "al = delivered_analysis['On_Time'].count()\n",
    "print(\"ontime_rate : %5.2f\" % (ontime/al))"
   ]
  },
  {
   "cell_type": "code",
   "execution_count": 35,
   "id": "15c87990",
   "metadata": {},
   "outputs": [],
   "source": [
    "dataset=delivered_analysis[['price','customer_city','product_weight_g','Month','processing time','shipping time','On_Time','Year']].dropna()"
   ]
  },
  {
   "cell_type": "code",
   "execution_count": 36,
   "id": "48df3bc9",
   "metadata": {
    "scrolled": true
   },
   "outputs": [
    {
     "data": {
      "text/plain": [
       "<AxesSubplot:>"
      ]
     },
     "execution_count": 36,
     "metadata": {},
     "output_type": "execute_result"
    },
    {
     "data": {
      "image/png": "[encoded data removed]",
      "text/plain": [
       "<Figure size 432x288 with 2 Axes>"
      ]
     },
     "metadata": {
      "needs_background": "light"
     },
     "output_type": "display_data"
    }
   ],
   "source": [
    "correlation = delivered_analysis.corr()\n",
    "sns.heatmap(correlation,cmap=\"YlGnBu\")\n",
    "# Delay Processing Time has reveser impact on processing time, that's make sense\n",
    "# prodcut weight, freight_value and payment_value has corrlection."
   ]
  },
  {
   "cell_type": "markdown",
   "id": "6a1565a4",
   "metadata": {},
   "source": [
    "### On-time rate is getting better by Years."
   ]
  },
  {
   "cell_type": "code",
   "execution_count": 37,
   "id": "aed66e8c",
   "metadata": {
    "scrolled": true
   },
   "outputs": [
    {
     "data": {
      "image/png": "[encoded data removed]",
      "text/plain": [
       "<Figure size 1296x576 with 2 Axes>"
      ]
     },
     "metadata": {
      "needs_background": "light"
     },
     "output_type": "display_data"
    }
   ],
   "source": [
    "# Data Analysis on year\n",
    "grouped = delivered_analysis[['Year','On_Time']].groupby('Year').mean().reset_index()\n",
    "fig, ax = plt.subplots(nrows=1, ncols=2, figsize=(18,8))\n",
    "ax1=sns.countplot(x='Year',hue='On_Time',data=delivered_analysis, ax=ax[0])\n",
    "for container in ax1.containers:\n",
    "    ax1.bar_label(container)\n",
    "ax[0].set_title('On_Time of Year')\n",
    "ax2=sns.barplot(x='Year',y='On_Time',data=grouped, ax=ax[1])\n",
    "ax2.bar_label(ax2.containers[0])\n",
    "ax[1].set_title('On_Time Rates of Country')\n",
    "plt.tight_layout()\n",
    "plt.show()"
   ]
  },
  {
   "cell_type": "markdown",
   "id": "02f14a97",
   "metadata": {},
   "source": [
    "### Febuary has lowest on-time rate, June,July,August have more orders and higher on-time rate."
   ]
  },
  {
   "cell_type": "code",
   "execution_count": 38,
   "id": "513f1761",
   "metadata": {
    "scrolled": false
   },
   "outputs": [
    {
     "data": {
      "image/png": "[encoded data removed]",
      "text/plain": [
       "<Figure size 1296x576 with 2 Axes>"
      ]
     },
     "metadata": {
      "needs_background": "light"
     },
     "output_type": "display_data"
    }
   ],
   "source": [
    "# Data Analysis on Month\n",
    "grouped = delivered_analysis[['Month','On_Time']].groupby('Month').mean().reset_index()\n",
    "fig, ax = plt.subplots(nrows=1, ncols=2, figsize=(18,8))\n",
    "ax1=sns.countplot(x='Month',hue='On_Time',data=delivered_analysis, ax=ax[0])\n",
    "for container in ax1.containers:\n",
    "    ax1.bar_label(container)\n",
    "ax[0].set_title('On_Time of Month')\n",
    "ax2=sns.barplot(x='Month',y='On_Time',data=grouped, ax=ax[1])\n",
    "ax2.bar_label(ax2.containers[0])\n",
    "ax[1].set_title('On_Time Rates of Month')\n",
    "plt.tight_layout()\n",
    "plt.show()"
   ]
  },
  {
   "cell_type": "markdown",
   "id": "5628f6ab",
   "metadata": {},
   "source": [
    "### Top 10 most orders citis except Salvador have better on-time delivery rate"
   ]
  },
  {
   "cell_type": "code",
   "execution_count": 39,
   "id": "2bbf94a1",
   "metadata": {},
   "outputs": [],
   "source": [
    "city = list(delivered_analysis['customer_city'].value_counts().sort_values(ascending=False).head(10).index)\n",
    "state_analysis=delivered_analysis['customer_city'].isin(city)\n",
    "state_analysis=delivered_analysis[state_analysis]"
   ]
  },
  {
   "cell_type": "code",
   "execution_count": 40,
   "id": "0529c23d",
   "metadata": {},
   "outputs": [
    {
     "data": {
      "image/png": "[encoded data removed]",
      "text/plain": [
       "<Figure size 1296x720 with 2 Axes>"
      ]
     },
     "metadata": {
      "needs_background": "light"
     },
     "output_type": "display_data"
    }
   ],
   "source": [
    "# Data Analysis on customer_city\n",
    "grouped = state_analysis[['customer_city','On_Time']].groupby('customer_city').mean().reset_index()\n",
    "fig, ax = plt.subplots(nrows=2, ncols=1, figsize=(18,10))\n",
    "ax1=sns.countplot(x='customer_city',hue='On_Time',data=state_analysis, ax=ax[0])\n",
    "for container in ax1.containers:\n",
    "    ax1.bar_label(container)\n",
    "ax[0].set_title('On_Time of Top 10 City')\n",
    "ax2=sns.barplot(x='customer_city',y='On_Time',data=grouped, ax=ax[1])\n",
    "ax2.bar_label(ax2.containers[0])\n",
    "ax[1].set_title('On_Time Rates of Top 10 City')\n",
    "plt.tight_layout()\n",
    "plt.show()"
   ]
  },
  {
   "cell_type": "markdown",
   "id": "d674ab7c",
   "metadata": {},
   "source": [
    "## Random Forest"
   ]
  },
  {
   "cell_type": "code",
   "execution_count": 41,
   "id": "f3c18ad5",
   "metadata": {},
   "outputs": [],
   "source": [
    "from sklearn.metrics import auc, roc_curve, classification_report\n",
    "\n",
    "import h2o\n",
    "from h2o.frame import H2OFrame\n",
    "from h2o.estimators.random_forest import H2ORandomForestEstimator\n",
    "from h2o.grid.grid_search import H2OGridSearch"
   ]
  },
  {
   "cell_type": "code",
   "execution_count": 42,
   "id": "1c65a431",
   "metadata": {
    "scrolled": true
   },
   "outputs": [
    {
     "name": "stdout",
     "output_type": "stream",
     "text": [
      "Checking whether there is an H2O instance running at http://localhost:54321 ..... not found.\n",
      "Attempting to start a local H2O server...\n",
      "; Java HotSpot(TM) 64-Bit Server VM (build 13.0.2+8, mixed mode, sharing)\n",
      "  Starting server from C:\\Users\\apolo\\anaconda3\\Lib\\site-packages\\h2o\\backend\\bin\\h2o.jar\n",
      "  Ice root: C:\\Users\\apolo\\AppData\\Local\\Temp\\tmp7vy_klvf\n",
      "  JVM stdout: C:\\Users\\apolo\\AppData\\Local\\Temp\\tmp7vy_klvf\\h2o_apolo_started_from_python.out\n",
      "  JVM stderr: C:\\Users\\apolo\\AppData\\Local\\Temp\\tmp7vy_klvf\\h2o_apolo_started_from_python.err\n",
      "  Server is running at http://127.0.0.1:54321\n",
      "Connecting to H2O server at http://127.0.0.1:54321 ... successful.\n",
      "Warning: Your H2O cluster version is too old (2 years, 1 month and 11 days)! Please download and install the latest version from http://h2o.ai/download/\n"
     ]
    },
    {
     "data": {
      "text/html": [
       "<div style=\"overflow:auto\"><table style=\"width:50%\"><tr><td>H2O_cluster_uptime:</td>\n",
       "<td>01 secs</td></tr>\n",
       "<tr><td>H2O_cluster_timezone:</td>\n",
       "<td>America/New_York</td></tr>\n",
       "<tr><td>H2O_data_parsing_timezone:</td>\n",
       "<td>UTC</td></tr>\n",
       "<tr><td>H2O_cluster_version:</td>\n",
       "<td>3.30.0.4</td></tr>\n",
       "<tr><td>H2O_cluster_version_age:</td>\n",
       "<td>2 years, 1 month and 11 days !!!</td></tr>\n",
       "<tr><td>H2O_cluster_name:</td>\n",
       "<td>H2O_from_python_apolo_f28l9m</td></tr>\n",
       "<tr><td>H2O_cluster_total_nodes:</td>\n",
       "<td>1</td></tr>\n",
       "<tr><td>H2O_cluster_free_memory:</td>\n",
       "<td>3.990 Gb</td></tr>\n",
       "<tr><td>H2O_cluster_total_cores:</td>\n",
       "<td>4</td></tr>\n",
       "<tr><td>H2O_cluster_allowed_cores:</td>\n",
       "<td>4</td></tr>\n",
       "<tr><td>H2O_cluster_status:</td>\n",
       "<td>accepting new members, healthy</td></tr>\n",
       "<tr><td>H2O_connection_url:</td>\n",
       "<td>http://127.0.0.1:54321</td></tr>\n",
       "<tr><td>H2O_connection_proxy:</td>\n",
       "<td>{\"http\": null, \"https\": null}</td></tr>\n",
       "<tr><td>H2O_internal_security:</td>\n",
       "<td>False</td></tr>\n",
       "<tr><td>H2O_API_Extensions:</td>\n",
       "<td>Amazon S3, Algos, AutoML, Core V3, TargetEncoder, Core V4</td></tr>\n",
       "<tr><td>Python_version:</td>\n",
       "<td>3.9.12 final</td></tr></table></div>"
      ],
      "text/plain": [
       "--------------------------  ---------------------------------------------------------\n",
       "H2O_cluster_uptime:         01 secs\n",
       "H2O_cluster_timezone:       America/New_York\n",
       "H2O_data_parsing_timezone:  UTC\n",
       "H2O_cluster_version:        3.30.0.4\n",
       "H2O_cluster_version_age:    2 years, 1 month and 11 days !!!\n",
       "H2O_cluster_name:           H2O_from_python_apolo_f28l9m\n",
       "H2O_cluster_total_nodes:    1\n",
       "H2O_cluster_free_memory:    3.990 Gb\n",
       "H2O_cluster_total_cores:    4\n",
       "H2O_cluster_allowed_cores:  4\n",
       "H2O_cluster_status:         accepting new members, healthy\n",
       "H2O_connection_url:         http://127.0.0.1:54321\n",
       "H2O_connection_proxy:       {\"http\": null, \"https\": null}\n",
       "H2O_internal_security:      False\n",
       "H2O_API_Extensions:         Amazon S3, Algos, AutoML, Core V3, TargetEncoder, Core V4\n",
       "Python_version:             3.9.12 final\n",
       "--------------------------  ---------------------------------------------------------"
      ]
     },
     "metadata": {},
     "output_type": "display_data"
    }
   ],
   "source": [
    "h2o.init()\n",
    "h2o.remove_all()"
   ]
  },
  {
   "cell_type": "code",
   "execution_count": 43,
   "id": "0f246f7a",
   "metadata": {
    "scrolled": true
   },
   "outputs": [
    {
     "name": "stdout",
     "output_type": "stream",
     "text": [
      "Parse progress: |█████████████████████████████████████████████████████████| 100%\n"
     ]
    },
    {
     "data": {
      "text/html": [
       "<table>\n",
       "<thead>\n",
       "<tr><th>       </th><th>price             </th><th>customer_city        </th><th>product_weight_g  </th><th>Month             </th><th>processing time   </th><th>shipping time    </th><th>On_Time           </th><th>Year              </th></tr>\n",
       "</thead>\n",
       "<tbody>\n",
       "<tr><td>type   </td><td>real              </td><td>enum                 </td><td>int               </td><td>int               </td><td>int               </td><td>int              </td><td>int               </td><td>int               </td></tr>\n",
       "<tr><td>mins   </td><td>0.85              </td><td>                     </td><td>0.0               </td><td>1.0               </td><td>0.0               </td><td>-17.0            </td><td>0.0               </td><td>2016.0            </td></tr>\n",
       "<tr><td>mean   </td><td>120.10861644861806</td><td>                     </td><td>2108.4570405727786</td><td>6.033142867097505 </td><td>2.800724700799617 </td><td>8.747487065135942</td><td>0.5417573994390537</td><td>2017.5402853509484</td></tr>\n",
       "<tr><td>maxs   </td><td>6735.0            </td><td>                     </td><td>40425.0           </td><td>12.0              </td><td>125.0             </td><td>205.0            </td><td>1.0               </td><td>2018.0            </td></tr>\n",
       "<tr><td>sigma  </td><td>183.070700462335  </td><td>                     </td><td>3775.6241330367   </td><td>3.2299377143411805</td><td>3.6342435206728725</td><td>8.61648429835805 </td><td>0.4982554385146238</td><td>0.5041803406305205</td></tr>\n",
       "<tr><td>zeros  </td><td>0                 </td><td>                     </td><td>8                 </td><td>0                 </td><td>22277             </td><td>3278             </td><td>52609             </td><td>0                 </td></tr>\n",
       "<tr><td>missing</td><td>0                 </td><td>0                    </td><td>0                 </td><td>0                 </td><td>0                 </td><td>0                </td><td>0                 </td><td>0                 </td></tr>\n",
       "<tr><td>0      </td><td>58.9              </td><td>campos dos goytacazes</td><td>650.0             </td><td>9.0               </td><td>6.0               </td><td>1.0              </td><td>1.0               </td><td>2017.0            </td></tr>\n",
       "<tr><td>1      </td><td>239.9             </td><td>santa fe do sul      </td><td>30000.0           </td><td>4.0               </td><td>8.0               </td><td>8.0              </td><td>0.0               </td><td>2017.0            </td></tr>\n",
       "<tr><td>2      </td><td>199.0             </td><td>para de minas        </td><td>3050.0            </td><td>1.0               </td><td>1.0               </td><td>6.0              </td><td>1.0               </td><td>2018.0            </td></tr>\n",
       "<tr><td>3      </td><td>12.99             </td><td>atibaia              </td><td>200.0             </td><td>8.0               </td><td>2.0               </td><td>4.0              </td><td>1.0               </td><td>2018.0            </td></tr>\n",
       "<tr><td>4      </td><td>199.9             </td><td>varzea paulista      </td><td>3750.0            </td><td>2.0               </td><td>11.0              </td><td>13.0             </td><td>0.0               </td><td>2017.0            </td></tr>\n",
       "<tr><td>5      </td><td>21.9              </td><td>uberaba              </td><td>450.0             </td><td>5.0               </td><td>1.0               </td><td>5.0              </td><td>1.0               </td><td>2017.0            </td></tr>\n",
       "<tr><td>6      </td><td>19.9              </td><td>guararapes           </td><td>200.0             </td><td>12.0              </td><td>1.0               </td><td>6.0              </td><td>1.0               </td><td>2017.0            </td></tr>\n",
       "<tr><td>7      </td><td>810.0             </td><td>praia grande         </td><td>13805.0           </td><td>7.0               </td><td>1.0               </td><td>4.0              </td><td>1.0               </td><td>2018.0            </td></tr>\n",
       "<tr><td>8      </td><td>145.95            </td><td>santos               </td><td>2000.0            </td><td>3.0               </td><td>8.0               </td><td>1.0              </td><td>1.0               </td><td>2018.0            </td></tr>\n",
       "<tr><td>9      </td><td>53.99             </td><td>jandira              </td><td>850.0             </td><td>7.0               </td><td>1.0               </td><td>1.0              </td><td>1.0               </td><td>2018.0            </td></tr>\n",
       "</tbody>\n",
       "</table>"
      ]
     },
     "metadata": {},
     "output_type": "display_data"
    }
   ],
   "source": [
    "# Transform to H2O Frame and make sure the target variable is categorical\n",
    "h2o_df = H2OFrame(dataset.dropna())\n",
    "h2o_df.summary()"
   ]
  },
  {
   "cell_type": "code",
   "execution_count": 44,
   "id": "93012380",
   "metadata": {},
   "outputs": [
    {
     "data": {
      "text/html": [
       "<table>\n",
       "<thead>\n",
       "<tr><th style=\"text-align: right;\">  price</th><th>customer_city        </th><th style=\"text-align: right;\">  product_weight_g</th><th style=\"text-align: right;\">  Month</th><th style=\"text-align: right;\">  processing time</th><th style=\"text-align: right;\">  shipping time</th><th style=\"text-align: right;\">  On_Time</th><th style=\"text-align: right;\">  Year</th></tr>\n",
       "</thead>\n",
       "<tbody>\n",
       "<tr><td style=\"text-align: right;\">  58.9 </td><td>campos dos goytacazes</td><td style=\"text-align: right;\">               650</td><td style=\"text-align: right;\">      9</td><td style=\"text-align: right;\">                6</td><td style=\"text-align: right;\">              1</td><td style=\"text-align: right;\">        1</td><td style=\"text-align: right;\">  2017</td></tr>\n",
       "<tr><td style=\"text-align: right;\"> 239.9 </td><td>santa fe do sul      </td><td style=\"text-align: right;\">             30000</td><td style=\"text-align: right;\">      4</td><td style=\"text-align: right;\">                8</td><td style=\"text-align: right;\">              8</td><td style=\"text-align: right;\">        0</td><td style=\"text-align: right;\">  2017</td></tr>\n",
       "<tr><td style=\"text-align: right;\"> 199   </td><td>para de minas        </td><td style=\"text-align: right;\">              3050</td><td style=\"text-align: right;\">      1</td><td style=\"text-align: right;\">                1</td><td style=\"text-align: right;\">              6</td><td style=\"text-align: right;\">        1</td><td style=\"text-align: right;\">  2018</td></tr>\n",
       "<tr><td style=\"text-align: right;\">  12.99</td><td>atibaia              </td><td style=\"text-align: right;\">               200</td><td style=\"text-align: right;\">      8</td><td style=\"text-align: right;\">                2</td><td style=\"text-align: right;\">              4</td><td style=\"text-align: right;\">        1</td><td style=\"text-align: right;\">  2018</td></tr>\n",
       "<tr><td style=\"text-align: right;\"> 199.9 </td><td>varzea paulista      </td><td style=\"text-align: right;\">              3750</td><td style=\"text-align: right;\">      2</td><td style=\"text-align: right;\">               11</td><td style=\"text-align: right;\">             13</td><td style=\"text-align: right;\">        0</td><td style=\"text-align: right;\">  2017</td></tr>\n",
       "<tr><td style=\"text-align: right;\">  21.9 </td><td>uberaba              </td><td style=\"text-align: right;\">               450</td><td style=\"text-align: right;\">      5</td><td style=\"text-align: right;\">                1</td><td style=\"text-align: right;\">              5</td><td style=\"text-align: right;\">        1</td><td style=\"text-align: right;\">  2017</td></tr>\n",
       "<tr><td style=\"text-align: right;\"> 810   </td><td>praia grande         </td><td style=\"text-align: right;\">             13805</td><td style=\"text-align: right;\">      7</td><td style=\"text-align: right;\">                1</td><td style=\"text-align: right;\">              4</td><td style=\"text-align: right;\">        1</td><td style=\"text-align: right;\">  2018</td></tr>\n",
       "<tr><td style=\"text-align: right;\"> 145.95</td><td>santos               </td><td style=\"text-align: right;\">              2000</td><td style=\"text-align: right;\">      3</td><td style=\"text-align: right;\">                8</td><td style=\"text-align: right;\">              1</td><td style=\"text-align: right;\">        1</td><td style=\"text-align: right;\">  2018</td></tr>\n",
       "<tr><td style=\"text-align: right;\">  53.99</td><td>jandira              </td><td style=\"text-align: right;\">               850</td><td style=\"text-align: right;\">      7</td><td style=\"text-align: right;\">                1</td><td style=\"text-align: right;\">              1</td><td style=\"text-align: right;\">        1</td><td style=\"text-align: right;\">  2018</td></tr>\n",
       "<tr><td style=\"text-align: right;\">  59.99</td><td>piracicaba           </td><td style=\"text-align: right;\">               950</td><td style=\"text-align: right;\">      3</td><td style=\"text-align: right;\">                2</td><td style=\"text-align: right;\">              1</td><td style=\"text-align: right;\">        1</td><td style=\"text-align: right;\">  2018</td></tr>\n",
       "</tbody>\n",
       "</table>"
      ]
     },
     "metadata": {},
     "output_type": "display_data"
    },
    {
     "data": {
      "text/plain": []
     },
     "execution_count": 44,
     "metadata": {},
     "output_type": "execute_result"
    }
   ],
   "source": [
    "strat_split = h2o_df['On_Time'].stratified_split(test_frac=0.25, seed=42)\n",
    "\n",
    "train = h2o_df[strat_split == 'train']\n",
    "test = h2o_df[strat_split == 'test']\n",
    "\n",
    "feature = ['price','customer_city','product_weight_g','Month','processing time','shipping time','On_Time','Year']\n",
    "target = 'On_Time'\n",
    "\n",
    "train"
   ]
  },
  {
   "cell_type": "code",
   "execution_count": 45,
   "id": "bfab66f0",
   "metadata": {
    "scrolled": false
   },
   "outputs": [
    {
     "name": "stdout",
     "output_type": "stream",
     "text": [
      "drf Model Build progress: |███████████████████████████████████████████████| 100%\n"
     ]
    }
   ],
   "source": [
    "# Build random forest model\n",
    "model = H2ORandomForestEstimator(balance_classes=True, ntrees=100, max_depth=20, \n",
    "                                 mtries=-1, seed=42, score_each_iteration=True)\n",
    "model.train(x=feature, y=target, training_frame=train,validation_frame = test)"
   ]
  },
  {
   "cell_type": "code",
   "execution_count": 46,
   "id": "76c5ce89",
   "metadata": {
    "scrolled": true
   },
   "outputs": [
    {
     "data": {
      "image/png": "[encoded data removed]",
      "text/plain": [
       "<Figure size 864x432 with 1 Axes>"
      ]
     },
     "metadata": {
      "needs_background": "light"
     },
     "output_type": "display_data"
    }
   ],
   "source": [
    "# Feature importance\n",
    "importance = model.varimp(use_pandas=True)\n",
    "\n",
    "fig, ax = plt.subplots(figsize=(12, 6))\n",
    "sns.barplot(x='scaled_importance', y='variable', data=importance)\n",
    "plt.show()"
   ]
  },
  {
   "cell_type": "code",
   "execution_count": 47,
   "id": "6c90c864",
   "metadata": {},
   "outputs": [
    {
     "data": {
      "text/plain": [
       "0.9459617259063485"
      ]
     },
     "execution_count": 47,
     "metadata": {},
     "output_type": "execute_result"
    }
   ],
   "source": [
    "# retrieve the r2 value:\n",
    "model.r2()"
   ]
  },
  {
   "cell_type": "code",
   "execution_count": 48,
   "id": "e540050b",
   "metadata": {
    "scrolled": true
   },
   "outputs": [
    {
     "name": "stdout",
     "output_type": "stream",
     "text": [
      "\n",
      "ModelMetricsRegression: drf\n",
      "** Reported on test data. **\n",
      "\n",
      "MSE: 0.012979065107545302\n",
      "RMSE: 0.11392569994318798\n",
      "MAE: 0.03634538733885273\n",
      "RMSLE: 0.07919696747435617\n",
      "Mean Residual Deviance: 0.012979065107545302\n"
     ]
    },
    {
     "data": {
      "text/plain": []
     },
     "execution_count": 48,
     "metadata": {},
     "output_type": "execute_result"
    }
   ],
   "source": [
    "# retrieve the model performance\n",
    "perf = model.model_performance(test)\n",
    "perf"
   ]
  },
  {
   "cell_type": "code",
   "execution_count": 49,
   "id": "178798df",
   "metadata": {},
   "outputs": [
    {
     "name": "stdout",
     "output_type": "stream",
     "text": [
      "Model Details\n",
      "=============\n",
      "H2ORandomForestEstimator :  Distributed Random Forest\n",
      "Model Key:  DRF_model_python_1657675744114_1\n",
      "\n",
      "\n",
      "Model Summary: \n"
     ]
    },
    {
     "data": {
      "text/html": [
       "<div>\n",
       "<style scoped>\n",
       "    .dataframe tbody tr th:only-of-type {\n",
       "        vertical-align: middle;\n",
       "    }\n",
       "\n",
       "    .dataframe tbody tr th {\n",
       "        vertical-align: top;\n",
       "    }\n",
       "\n",
       "    .dataframe thead th {\n",
       "        text-align: right;\n",
       "    }\n",
       "</style>\n",
       "<table border=\"1\" class=\"dataframe\">\n",
       "  <thead>\n",
       "    <tr style=\"text-align: right;\">\n",
       "      <th></th>\n",
       "      <th></th>\n",
       "      <th>number_of_trees</th>\n",
       "      <th>number_of_internal_trees</th>\n",
       "      <th>model_size_in_bytes</th>\n",
       "      <th>min_depth</th>\n",
       "      <th>max_depth</th>\n",
       "      <th>mean_depth</th>\n",
       "      <th>min_leaves</th>\n",
       "      <th>max_leaves</th>\n",
       "      <th>mean_leaves</th>\n",
       "    </tr>\n",
       "  </thead>\n",
       "  <tbody>\n",
       "    <tr>\n",
       "      <th>0</th>\n",
       "      <td></td>\n",
       "      <td>100.0</td>\n",
       "      <td>100.0</td>\n",
       "      <td>3831297.0</td>\n",
       "      <td>20.0</td>\n",
       "      <td>20.0</td>\n",
       "      <td>20.0</td>\n",
       "      <td>1149.0</td>\n",
       "      <td>2783.0</td>\n",
       "      <td>1880.13</td>\n",
       "    </tr>\n",
       "  </tbody>\n",
       "</table>\n",
       "</div>"
      ],
      "text/plain": [
       "     number_of_trees  number_of_internal_trees  model_size_in_bytes  \\\n",
       "0              100.0                     100.0            3831297.0   \n",
       "\n",
       "   min_depth  max_depth  mean_depth  min_leaves  max_leaves  mean_leaves  \n",
       "0       20.0       20.0        20.0      1149.0      2783.0      1880.13  "
      ]
     },
     "metadata": {},
     "output_type": "display_data"
    },
    {
     "name": "stdout",
     "output_type": "stream",
     "text": [
      "\n",
      "\n",
      "ModelMetricsRegression: drf\n",
      "** Reported on train data. **\n",
      "\n",
      "MSE: 0.01341534413790421\n",
      "RMSE: 0.11582462664694504\n",
      "MAE: 0.0358124502473729\n",
      "RMSLE: 0.0809889331406777\n",
      "Mean Residual Deviance: 0.01341534413790421\n",
      "\n",
      "ModelMetricsRegression: drf\n",
      "** Reported on validation data. **\n",
      "\n",
      "MSE: 0.012979065107545302\n",
      "RMSE: 0.11392569994318798\n",
      "MAE: 0.03634538733885273\n",
      "RMSLE: 0.07919696747435617\n",
      "Mean Residual Deviance: 0.012979065107545302\n",
      "\n",
      "Scoring History: \n"
     ]
    },
    {
     "data": {
      "text/html": [
       "<div>\n",
       "<style scoped>\n",
       "    .dataframe tbody tr th:only-of-type {\n",
       "        vertical-align: middle;\n",
       "    }\n",
       "\n",
       "    .dataframe tbody tr th {\n",
       "        vertical-align: top;\n",
       "    }\n",
       "\n",
       "    .dataframe thead th {\n",
       "        text-align: right;\n",
       "    }\n",
       "</style>\n",
       "<table border=\"1\" class=\"dataframe\">\n",
       "  <thead>\n",
       "    <tr style=\"text-align: right;\">\n",
       "      <th></th>\n",
       "      <th></th>\n",
       "      <th>timestamp</th>\n",
       "      <th>duration</th>\n",
       "      <th>number_of_trees</th>\n",
       "      <th>training_rmse</th>\n",
       "      <th>training_mae</th>\n",
       "      <th>training_deviance</th>\n",
       "      <th>validation_rmse</th>\n",
       "      <th>validation_mae</th>\n",
       "      <th>validation_deviance</th>\n",
       "    </tr>\n",
       "  </thead>\n",
       "  <tbody>\n",
       "    <tr>\n",
       "      <th>0</th>\n",
       "      <td></td>\n",
       "      <td>2022-07-12 21:29:29</td>\n",
       "      <td>0.085 sec</td>\n",
       "      <td>0.0</td>\n",
       "      <td>NaN</td>\n",
       "      <td>NaN</td>\n",
       "      <td>NaN</td>\n",
       "      <td>NaN</td>\n",
       "      <td>NaN</td>\n",
       "      <td>NaN</td>\n",
       "    </tr>\n",
       "    <tr>\n",
       "      <th>1</th>\n",
       "      <td></td>\n",
       "      <td>2022-07-12 21:29:30</td>\n",
       "      <td>0.804 sec</td>\n",
       "      <td>1.0</td>\n",
       "      <td>0.167723</td>\n",
       "      <td>0.029324</td>\n",
       "      <td>0.028131</td>\n",
       "      <td>0.173805</td>\n",
       "      <td>0.031413</td>\n",
       "      <td>0.030208</td>\n",
       "    </tr>\n",
       "    <tr>\n",
       "      <th>2</th>\n",
       "      <td></td>\n",
       "      <td>2022-07-12 21:29:30</td>\n",
       "      <td>1.121 sec</td>\n",
       "      <td>2.0</td>\n",
       "      <td>0.156946</td>\n",
       "      <td>0.027984</td>\n",
       "      <td>0.024632</td>\n",
       "      <td>0.144398</td>\n",
       "      <td>0.029982</td>\n",
       "      <td>0.020851</td>\n",
       "    </tr>\n",
       "    <tr>\n",
       "      <th>3</th>\n",
       "      <td></td>\n",
       "      <td>2022-07-12 21:29:31</td>\n",
       "      <td>1.309 sec</td>\n",
       "      <td>3.0</td>\n",
       "      <td>0.165254</td>\n",
       "      <td>0.033478</td>\n",
       "      <td>0.027309</td>\n",
       "      <td>0.141386</td>\n",
       "      <td>0.035457</td>\n",
       "      <td>0.019990</td>\n",
       "    </tr>\n",
       "    <tr>\n",
       "      <th>4</th>\n",
       "      <td></td>\n",
       "      <td>2022-07-12 21:29:31</td>\n",
       "      <td>1.465 sec</td>\n",
       "      <td>4.0</td>\n",
       "      <td>0.163138</td>\n",
       "      <td>0.035108</td>\n",
       "      <td>0.026614</td>\n",
       "      <td>0.136180</td>\n",
       "      <td>0.036469</td>\n",
       "      <td>0.018545</td>\n",
       "    </tr>\n",
       "    <tr>\n",
       "      <th>5</th>\n",
       "      <td></td>\n",
       "      <td>2022-07-12 21:29:31</td>\n",
       "      <td>1.603 sec</td>\n",
       "      <td>5.0</td>\n",
       "      <td>0.157689</td>\n",
       "      <td>0.034889</td>\n",
       "      <td>0.024866</td>\n",
       "      <td>0.131424</td>\n",
       "      <td>0.035878</td>\n",
       "      <td>0.017272</td>\n",
       "    </tr>\n",
       "    <tr>\n",
       "      <th>6</th>\n",
       "      <td></td>\n",
       "      <td>2022-07-12 21:29:31</td>\n",
       "      <td>1.743 sec</td>\n",
       "      <td>6.0</td>\n",
       "      <td>0.154762</td>\n",
       "      <td>0.036183</td>\n",
       "      <td>0.023951</td>\n",
       "      <td>0.128783</td>\n",
       "      <td>0.036925</td>\n",
       "      <td>0.016585</td>\n",
       "    </tr>\n",
       "    <tr>\n",
       "      <th>7</th>\n",
       "      <td></td>\n",
       "      <td>2022-07-12 21:29:31</td>\n",
       "      <td>1.868 sec</td>\n",
       "      <td>7.0</td>\n",
       "      <td>0.151199</td>\n",
       "      <td>0.036362</td>\n",
       "      <td>0.022861</td>\n",
       "      <td>0.126760</td>\n",
       "      <td>0.037041</td>\n",
       "      <td>0.016068</td>\n",
       "    </tr>\n",
       "    <tr>\n",
       "      <th>8</th>\n",
       "      <td></td>\n",
       "      <td>2022-07-12 21:29:31</td>\n",
       "      <td>2.023 sec</td>\n",
       "      <td>8.0</td>\n",
       "      <td>0.149749</td>\n",
       "      <td>0.038019</td>\n",
       "      <td>0.022425</td>\n",
       "      <td>0.126288</td>\n",
       "      <td>0.038526</td>\n",
       "      <td>0.015949</td>\n",
       "    </tr>\n",
       "    <tr>\n",
       "      <th>9</th>\n",
       "      <td></td>\n",
       "      <td>2022-07-12 21:29:31</td>\n",
       "      <td>2.147 sec</td>\n",
       "      <td>9.0</td>\n",
       "      <td>0.145999</td>\n",
       "      <td>0.037660</td>\n",
       "      <td>0.021316</td>\n",
       "      <td>0.124286</td>\n",
       "      <td>0.037952</td>\n",
       "      <td>0.015447</td>\n",
       "    </tr>\n",
       "    <tr>\n",
       "      <th>10</th>\n",
       "      <td></td>\n",
       "      <td>2022-07-12 21:29:32</td>\n",
       "      <td>2.272 sec</td>\n",
       "      <td>10.0</td>\n",
       "      <td>0.143674</td>\n",
       "      <td>0.038039</td>\n",
       "      <td>0.020642</td>\n",
       "      <td>0.123954</td>\n",
       "      <td>0.038460</td>\n",
       "      <td>0.015365</td>\n",
       "    </tr>\n",
       "    <tr>\n",
       "      <th>11</th>\n",
       "      <td></td>\n",
       "      <td>2022-07-12 21:29:32</td>\n",
       "      <td>2.417 sec</td>\n",
       "      <td>11.0</td>\n",
       "      <td>0.141577</td>\n",
       "      <td>0.038461</td>\n",
       "      <td>0.020044</td>\n",
       "      <td>0.123747</td>\n",
       "      <td>0.039087</td>\n",
       "      <td>0.015313</td>\n",
       "    </tr>\n",
       "    <tr>\n",
       "      <th>12</th>\n",
       "      <td></td>\n",
       "      <td>2022-07-12 21:29:32</td>\n",
       "      <td>2.545 sec</td>\n",
       "      <td>12.0</td>\n",
       "      <td>0.138838</td>\n",
       "      <td>0.037935</td>\n",
       "      <td>0.019276</td>\n",
       "      <td>0.122807</td>\n",
       "      <td>0.038520</td>\n",
       "      <td>0.015082</td>\n",
       "    </tr>\n",
       "    <tr>\n",
       "      <th>13</th>\n",
       "      <td></td>\n",
       "      <td>2022-07-12 21:29:32</td>\n",
       "      <td>2.685 sec</td>\n",
       "      <td>13.0</td>\n",
       "      <td>0.136203</td>\n",
       "      <td>0.037134</td>\n",
       "      <td>0.018551</td>\n",
       "      <td>0.121172</td>\n",
       "      <td>0.037512</td>\n",
       "      <td>0.014683</td>\n",
       "    </tr>\n",
       "    <tr>\n",
       "      <th>14</th>\n",
       "      <td></td>\n",
       "      <td>2022-07-12 21:29:32</td>\n",
       "      <td>2.826 sec</td>\n",
       "      <td>14.0</td>\n",
       "      <td>0.134128</td>\n",
       "      <td>0.036865</td>\n",
       "      <td>0.017990</td>\n",
       "      <td>0.120583</td>\n",
       "      <td>0.037350</td>\n",
       "      <td>0.014540</td>\n",
       "    </tr>\n",
       "    <tr>\n",
       "      <th>15</th>\n",
       "      <td></td>\n",
       "      <td>2022-07-12 21:29:32</td>\n",
       "      <td>2.980 sec</td>\n",
       "      <td>15.0</td>\n",
       "      <td>0.132557</td>\n",
       "      <td>0.036876</td>\n",
       "      <td>0.017571</td>\n",
       "      <td>0.120150</td>\n",
       "      <td>0.037384</td>\n",
       "      <td>0.014436</td>\n",
       "    </tr>\n",
       "    <tr>\n",
       "      <th>16</th>\n",
       "      <td></td>\n",
       "      <td>2022-07-12 21:29:32</td>\n",
       "      <td>3.137 sec</td>\n",
       "      <td>16.0</td>\n",
       "      <td>0.131657</td>\n",
       "      <td>0.037508</td>\n",
       "      <td>0.017334</td>\n",
       "      <td>0.120278</td>\n",
       "      <td>0.038137</td>\n",
       "      <td>0.014467</td>\n",
       "    </tr>\n",
       "    <tr>\n",
       "      <th>17</th>\n",
       "      <td></td>\n",
       "      <td>2022-07-12 21:29:33</td>\n",
       "      <td>3.324 sec</td>\n",
       "      <td>17.0</td>\n",
       "      <td>0.130674</td>\n",
       "      <td>0.037516</td>\n",
       "      <td>0.017076</td>\n",
       "      <td>0.119823</td>\n",
       "      <td>0.038069</td>\n",
       "      <td>0.014358</td>\n",
       "    </tr>\n",
       "    <tr>\n",
       "      <th>18</th>\n",
       "      <td></td>\n",
       "      <td>2022-07-12 21:29:33</td>\n",
       "      <td>3.497 sec</td>\n",
       "      <td>18.0</td>\n",
       "      <td>0.129710</td>\n",
       "      <td>0.037545</td>\n",
       "      <td>0.016825</td>\n",
       "      <td>0.119407</td>\n",
       "      <td>0.038059</td>\n",
       "      <td>0.014258</td>\n",
       "    </tr>\n",
       "    <tr>\n",
       "      <th>19</th>\n",
       "      <td></td>\n",
       "      <td>2022-07-12 21:29:33</td>\n",
       "      <td>3.669 sec</td>\n",
       "      <td>19.0</td>\n",
       "      <td>0.128517</td>\n",
       "      <td>0.037114</td>\n",
       "      <td>0.016517</td>\n",
       "      <td>0.118826</td>\n",
       "      <td>0.037551</td>\n",
       "      <td>0.014120</td>\n",
       "    </tr>\n",
       "  </tbody>\n",
       "</table>\n",
       "</div>"
      ],
      "text/plain": [
       "                timestamp    duration  number_of_trees  training_rmse  \\\n",
       "0     2022-07-12 21:29:29   0.085 sec              0.0            NaN   \n",
       "1     2022-07-12 21:29:30   0.804 sec              1.0       0.167723   \n",
       "2     2022-07-12 21:29:30   1.121 sec              2.0       0.156946   \n",
       "3     2022-07-12 21:29:31   1.309 sec              3.0       0.165254   \n",
       "4     2022-07-12 21:29:31   1.465 sec              4.0       0.163138   \n",
       "5     2022-07-12 21:29:31   1.603 sec              5.0       0.157689   \n",
       "6     2022-07-12 21:29:31   1.743 sec              6.0       0.154762   \n",
       "7     2022-07-12 21:29:31   1.868 sec              7.0       0.151199   \n",
       "8     2022-07-12 21:29:31   2.023 sec              8.0       0.149749   \n",
       "9     2022-07-12 21:29:31   2.147 sec              9.0       0.145999   \n",
       "10    2022-07-12 21:29:32   2.272 sec             10.0       0.143674   \n",
       "11    2022-07-12 21:29:32   2.417 sec             11.0       0.141577   \n",
       "12    2022-07-12 21:29:32   2.545 sec             12.0       0.138838   \n",
       "13    2022-07-12 21:29:32   2.685 sec             13.0       0.136203   \n",
       "14    2022-07-12 21:29:32   2.826 sec             14.0       0.134128   \n",
       "15    2022-07-12 21:29:32   2.980 sec             15.0       0.132557   \n",
       "16    2022-07-12 21:29:32   3.137 sec             16.0       0.131657   \n",
       "17    2022-07-12 21:29:33   3.324 sec             17.0       0.130674   \n",
       "18    2022-07-12 21:29:33   3.497 sec             18.0       0.129710   \n",
       "19    2022-07-12 21:29:33   3.669 sec             19.0       0.128517   \n",
       "\n",
       "    training_mae  training_deviance  validation_rmse  validation_mae  \\\n",
       "0            NaN                NaN              NaN             NaN   \n",
       "1       0.029324           0.028131         0.173805        0.031413   \n",
       "2       0.027984           0.024632         0.144398        0.029982   \n",
       "3       0.033478           0.027309         0.141386        0.035457   \n",
       "4       0.035108           0.026614         0.136180        0.036469   \n",
       "5       0.034889           0.024866         0.131424        0.035878   \n",
       "6       0.036183           0.023951         0.128783        0.036925   \n",
       "7       0.036362           0.022861         0.126760        0.037041   \n",
       "8       0.038019           0.022425         0.126288        0.038526   \n",
       "9       0.037660           0.021316         0.124286        0.037952   \n",
       "10      0.038039           0.020642         0.123954        0.038460   \n",
       "11      0.038461           0.020044         0.123747        0.039087   \n",
       "12      0.037935           0.019276         0.122807        0.038520   \n",
       "13      0.037134           0.018551         0.121172        0.037512   \n",
       "14      0.036865           0.017990         0.120583        0.037350   \n",
       "15      0.036876           0.017571         0.120150        0.037384   \n",
       "16      0.037508           0.017334         0.120278        0.038137   \n",
       "17      0.037516           0.017076         0.119823        0.038069   \n",
       "18      0.037545           0.016825         0.119407        0.038059   \n",
       "19      0.037114           0.016517         0.118826        0.037551   \n",
       "\n",
       "    validation_deviance  \n",
       "0                   NaN  \n",
       "1              0.030208  \n",
       "2              0.020851  \n",
       "3              0.019990  \n",
       "4              0.018545  \n",
       "5              0.017272  \n",
       "6              0.016585  \n",
       "7              0.016068  \n",
       "8              0.015949  \n",
       "9              0.015447  \n",
       "10             0.015365  \n",
       "11             0.015313  \n",
       "12             0.015082  \n",
       "13             0.014683  \n",
       "14             0.014540  \n",
       "15             0.014436  \n",
       "16             0.014467  \n",
       "17             0.014358  \n",
       "18             0.014258  \n",
       "19             0.014120  "
      ]
     },
     "metadata": {},
     "output_type": "display_data"
    },
    {
     "name": "stdout",
     "output_type": "stream",
     "text": [
      "\n",
      "See the whole table with table.as_data_frame()\n",
      "\n",
      "Variable Importances: \n"
     ]
    },
    {
     "data": {
      "text/html": [
       "<div>\n",
       "<style scoped>\n",
       "    .dataframe tbody tr th:only-of-type {\n",
       "        vertical-align: middle;\n",
       "    }\n",
       "\n",
       "    .dataframe tbody tr th {\n",
       "        vertical-align: top;\n",
       "    }\n",
       "\n",
       "    .dataframe thead th {\n",
       "        text-align: right;\n",
       "    }\n",
       "</style>\n",
       "<table border=\"1\" class=\"dataframe\">\n",
       "  <thead>\n",
       "    <tr style=\"text-align: right;\">\n",
       "      <th></th>\n",
       "      <th>variable</th>\n",
       "      <th>relative_importance</th>\n",
       "      <th>scaled_importance</th>\n",
       "      <th>percentage</th>\n",
       "    </tr>\n",
       "  </thead>\n",
       "  <tbody>\n",
       "    <tr>\n",
       "      <th>0</th>\n",
       "      <td>shipping time</td>\n",
       "      <td>989195.437500</td>\n",
       "      <td>1.000000</td>\n",
       "      <td>0.672658</td>\n",
       "    </tr>\n",
       "    <tr>\n",
       "      <th>1</th>\n",
       "      <td>processing time</td>\n",
       "      <td>303448.281250</td>\n",
       "      <td>0.306763</td>\n",
       "      <td>0.206346</td>\n",
       "    </tr>\n",
       "    <tr>\n",
       "      <th>2</th>\n",
       "      <td>customer_city</td>\n",
       "      <td>86796.648438</td>\n",
       "      <td>0.087745</td>\n",
       "      <td>0.059022</td>\n",
       "    </tr>\n",
       "    <tr>\n",
       "      <th>3</th>\n",
       "      <td>Month</td>\n",
       "      <td>35419.531250</td>\n",
       "      <td>0.035806</td>\n",
       "      <td>0.024085</td>\n",
       "    </tr>\n",
       "    <tr>\n",
       "      <th>4</th>\n",
       "      <td>price</td>\n",
       "      <td>23128.406250</td>\n",
       "      <td>0.023381</td>\n",
       "      <td>0.015727</td>\n",
       "    </tr>\n",
       "    <tr>\n",
       "      <th>5</th>\n",
       "      <td>product_weight_g</td>\n",
       "      <td>22142.177734</td>\n",
       "      <td>0.022384</td>\n",
       "      <td>0.015057</td>\n",
       "    </tr>\n",
       "    <tr>\n",
       "      <th>6</th>\n",
       "      <td>Year</td>\n",
       "      <td>10446.978516</td>\n",
       "      <td>0.010561</td>\n",
       "      <td>0.007104</td>\n",
       "    </tr>\n",
       "  </tbody>\n",
       "</table>\n",
       "</div>"
      ],
      "text/plain": [
       "           variable  relative_importance  scaled_importance  percentage\n",
       "0     shipping time        989195.437500           1.000000    0.672658\n",
       "1   processing time        303448.281250           0.306763    0.206346\n",
       "2     customer_city         86796.648438           0.087745    0.059022\n",
       "3             Month         35419.531250           0.035806    0.024085\n",
       "4             price         23128.406250           0.023381    0.015727\n",
       "5  product_weight_g         22142.177734           0.022384    0.015057\n",
       "6              Year         10446.978516           0.010561    0.007104"
      ]
     },
     "metadata": {},
     "output_type": "display_data"
    },
    {
     "data": {
      "text/plain": []
     },
     "execution_count": 49,
     "metadata": {},
     "output_type": "execute_result"
    }
   ],
   "source": [
    "model"
   ]
  },
  {
   "cell_type": "code",
   "execution_count": 50,
   "id": "88d25bf3",
   "metadata": {
    "scrolled": true
   },
   "outputs": [
    {
     "name": "stdout",
     "output_type": "stream",
     "text": [
      "drf prediction progress: |████████████████████████████████████████████████| 100%\n",
      "drf prediction progress: |████████████████████████████████████████████████| 100%\n"
     ]
    }
   ],
   "source": [
    "# Make predictions\n",
    "train_true = train.as_data_frame()['On_Time'].values\n",
    "test_true = test.as_data_frame()['On_Time'].values\n",
    "train_pred = model.predict(train).as_data_frame().values\n",
    "test_pred = model.predict(test).as_data_frame().values"
   ]
  },
  {
   "cell_type": "code",
   "execution_count": 51,
   "id": "eca2efc9",
   "metadata": {},
   "outputs": [],
   "source": [
    "train_fpr, train_tpr, _ = roc_curve(train_true, train_pred)\n",
    "test_fpr, test_tpr, _ = roc_curve(test_true, test_pred)\n",
    "train_auc = np.round(auc(train_fpr, train_tpr), 3)\n",
    "test_auc = np.round(auc(test_fpr, test_tpr), 3)"
   ]
  },
  {
   "cell_type": "code",
   "execution_count": 52,
   "id": "5cf391dc",
   "metadata": {},
   "outputs": [
    {
     "name": "stdout",
     "output_type": "stream",
     "text": [
      "              precision    recall  f1-score   support\n",
      "\n",
      "           0       0.98      0.98      0.98     13152\n",
      "           1       0.98      0.98      0.98     15549\n",
      "\n",
      "    accuracy                           0.98     28701\n",
      "   macro avg       0.98      0.98      0.98     28701\n",
      "weighted avg       0.98      0.98      0.98     28701\n",
      "\n"
     ]
    }
   ],
   "source": [
    "# Classification report\n",
    "print(classification_report(y_true=test_true, y_pred=(test_pred > 0.5).astype(int)))"
   ]
  },
  {
   "cell_type": "code",
   "execution_count": 53,
   "id": "d10f8c7d",
   "metadata": {},
   "outputs": [
    {
     "data": {
      "image/png": "[encoded data removed]",
      "text/plain": [
       "<Figure size 576x432 with 1 Axes>"
      ]
     },
     "metadata": {
      "needs_background": "light"
     },
     "output_type": "display_data"
    }
   ],
   "source": [
    "fig, ax = plt.subplots(figsize=(8, 6))\n",
    "ax.plot(train_fpr, train_tpr, label='Train AUC: ' + str(train_auc))\n",
    "ax.plot(test_fpr, test_tpr, label='Test AUC: ' + str(test_auc))\n",
    "ax.set_xlabel('False Positive Rate', fontsize=12)\n",
    "ax.set_ylabel('True Positive Rate', fontsize=12)\n",
    "ax.legend(fontsize=12)\n",
    "plt.show()"
   ]
  },
  {
   "cell_type": "code",
   "execution_count": 54,
   "id": "21c27f11",
   "metadata": {},
   "outputs": [
    {
     "name": "stdout",
     "output_type": "stream",
     "text": [
      "H2O session _sid_9b85 closed.\n"
     ]
    }
   ],
   "source": [
    "# Shutdown h2o instance\n",
    "h2o.cluster().shutdown()"
   ]
  },
  {
   "cell_type": "markdown",
   "id": "c5488e48",
   "metadata": {},
   "source": [
    "## Random Forest Concludes:\n",
    "1. Shipping time has the most impaction on on-time delivery, should get faster delivery service from other carriers. \n",
    "2. Saving more time on processing also has great impacts on on-time delivery\n",
    "3. Customer city has correlation with shipping time. Distance between warehouse and Customer city will influence the shipping time.\n",
    "4. Product_weight and price don't impact delivery on time. That's good."
   ]
  },
  {
   "cell_type": "markdown",
   "id": "6e3c13fb",
   "metadata": {},
   "source": [
    "# Suggestions:\n",
    "1. Only 54% of orders consider as on-time if lead time sets as 10 days. That's a pretty low delivery performance. Company should touch with other vendors to get faster shipping service.\n",
    "2. Time of processing orders has potential to decrease. Orders average processing time is 3 days and 9.3% orders delayed in process. \n",
    "3. Although has 3% undelivered rate, Company should work with warehouse department and carriers to avoid missing orders cases.\n",
    "4. Top 10 customer cities except Salvado have higher on-time rate than average rate. It is clear that international shipments will take more delivery time. Could establish new channel to ship packages to Salvado. In domestic, Brasilia, Porto llegre and Rio de janeiro has great potential to get better on-time delivery"
   ]
  }
 ],
 "metadata": {
  "kernelspec": {
   "display_name": "Python 3 (ipykernel)",
   "language": "python",
   "name": "python3"
  },
  "language_info": {
   "codemirror_mode": {
    "name": "ipython",
    "version": 3
   },
   "file_extension": ".py",
   "mimetype": "text/x-python",
   "name": "python",
   "nbconvert_exporter": "python",
   "pygments_lexer": "ipython3",
   "version": "3.9.12"
  }
 },
 "nbformat": 4,
 "nbformat_minor": 5
}
