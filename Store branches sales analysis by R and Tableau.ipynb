{
 "cells": [
  {
   "cell_type": "code",
   "execution_count": 1,
   "id": "3c10febc",
   "metadata": {},
   "outputs": [
    {
     "name": "stderr",
     "output_type": "stream",
     "text": [
      "\n",
      "Attaching package: 'dplyr'\n",
      "\n",
      "\n",
      "The following objects are masked from 'package:stats':\n",
      "\n",
      "    filter, lag\n",
      "\n",
      "\n",
      "The following objects are masked from 'package:base':\n",
      "\n",
      "    intersect, setdiff, setequal, union\n",
      "\n",
      "\n",
      "\n",
      "Attaching package: 'plotly'\n",
      "\n",
      "\n",
      "The following object is masked from 'package:ggplot2':\n",
      "\n",
      "    last_plot\n",
      "\n",
      "\n",
      "The following object is masked from 'package:stats':\n",
      "\n",
      "    filter\n",
      "\n",
      "\n",
      "The following object is masked from 'package:graphics':\n",
      "\n",
      "    layout\n",
      "\n",
      "\n"
     ]
    }
   ],
   "source": [
    "library(dplyr)\n",
    "library(ggplot2)\n",
    "library(plotly)"
   ]
  },
  {
   "cell_type": "code",
   "execution_count": 2,
   "id": "6a9bffc4",
   "metadata": {},
   "outputs": [],
   "source": [
    "Store_data <- read.csv(\"C:/Users/apolo/Desktop/Stores.csv\")"
   ]
  },
  {
   "cell_type": "markdown",
   "id": "af95e772",
   "metadata": {},
   "source": [
    "### Check the data"
   ]
  },
  {
   "cell_type": "code",
   "execution_count": 3,
   "id": "a5d0c7a8",
   "metadata": {},
   "outputs": [
    {
     "data": {
      "text/html": [
       "<table class=\"dataframe\">\n",
       "<caption>A data.frame: 6 × 5</caption>\n",
       "<thead>\n",
       "\t<tr><th></th><th scope=col>ï..Store.ID</th><th scope=col>Store_Area</th><th scope=col>Items_Available</th><th scope=col>Daily_Customer_Count</th><th scope=col>Store_Sales</th></tr>\n",
       "\t<tr><th></th><th scope=col>&lt;int&gt;</th><th scope=col>&lt;int&gt;</th><th scope=col>&lt;int&gt;</th><th scope=col>&lt;int&gt;</th><th scope=col>&lt;int&gt;</th></tr>\n",
       "</thead>\n",
       "<tbody>\n",
       "\t<tr><th scope=row>1</th><td>1</td><td>1659</td><td>1961</td><td>530</td><td>66490</td></tr>\n",
       "\t<tr><th scope=row>2</th><td>2</td><td>1461</td><td>1752</td><td>210</td><td>39820</td></tr>\n",
       "\t<tr><th scope=row>3</th><td>3</td><td>1340</td><td>1609</td><td>720</td><td>54010</td></tr>\n",
       "\t<tr><th scope=row>4</th><td>4</td><td>1451</td><td>1748</td><td>620</td><td>53730</td></tr>\n",
       "\t<tr><th scope=row>5</th><td>5</td><td>1770</td><td>2111</td><td>450</td><td>46620</td></tr>\n",
       "\t<tr><th scope=row>6</th><td>6</td><td>1442</td><td>1733</td><td>760</td><td>45260</td></tr>\n",
       "</tbody>\n",
       "</table>\n"
      ],
      "text/latex": [
       "A data.frame: 6 × 5\n",
       "\\begin{tabular}{r|lllll}\n",
       "  & ï..Store.ID & Store\\_Area & Items\\_Available & Daily\\_Customer\\_Count & Store\\_Sales\\\\\n",
       "  & <int> & <int> & <int> & <int> & <int>\\\\\n",
       "\\hline\n",
       "\t1 & 1 & 1659 & 1961 & 530 & 66490\\\\\n",
       "\t2 & 2 & 1461 & 1752 & 210 & 39820\\\\\n",
       "\t3 & 3 & 1340 & 1609 & 720 & 54010\\\\\n",
       "\t4 & 4 & 1451 & 1748 & 620 & 53730\\\\\n",
       "\t5 & 5 & 1770 & 2111 & 450 & 46620\\\\\n",
       "\t6 & 6 & 1442 & 1733 & 760 & 45260\\\\\n",
       "\\end{tabular}\n"
      ],
      "text/markdown": [
       "\n",
       "A data.frame: 6 × 5\n",
       "\n",
       "| <!--/--> | ï..Store.ID &lt;int&gt; | Store_Area &lt;int&gt; | Items_Available &lt;int&gt; | Daily_Customer_Count &lt;int&gt; | Store_Sales &lt;int&gt; |\n",
       "|---|---|---|---|---|---|\n",
       "| 1 | 1 | 1659 | 1961 | 530 | 66490 |\n",
       "| 2 | 2 | 1461 | 1752 | 210 | 39820 |\n",
       "| 3 | 3 | 1340 | 1609 | 720 | 54010 |\n",
       "| 4 | 4 | 1451 | 1748 | 620 | 53730 |\n",
       "| 5 | 5 | 1770 | 2111 | 450 | 46620 |\n",
       "| 6 | 6 | 1442 | 1733 | 760 | 45260 |\n",
       "\n"
      ],
      "text/plain": [
       "  ï..Store.ID Store_Area Items_Available Daily_Customer_Count Store_Sales\n",
       "1 1           1659       1961            530                  66490      \n",
       "2 2           1461       1752            210                  39820      \n",
       "3 3           1340       1609            720                  54010      \n",
       "4 4           1451       1748            620                  53730      \n",
       "5 5           1770       2111            450                  46620      \n",
       "6 6           1442       1733            760                  45260      "
      ]
     },
     "metadata": {},
     "output_type": "display_data"
    }
   ],
   "source": [
    "head(Store_data)"
   ]
  },
  {
   "cell_type": "code",
   "execution_count": 4,
   "id": "6883f0b5",
   "metadata": {},
   "outputs": [
    {
     "name": "stdout",
     "output_type": "stream",
     "text": [
      "Rows: 896\n",
      "Columns: 5\n",
      "$ ï..Store.ID          \u001b[3m\u001b[90m<int>\u001b[39m\u001b[23m 1, 2, 3, 4, 5, 6, 7, 8, 9, 10, 11, 12, 13, 14, 15~\n",
      "$ Store_Area           \u001b[3m\u001b[90m<int>\u001b[39m\u001b[23m 1659, 1461, 1340, 1451, 1770, 1442, 1542, 1261, 1~\n",
      "$ Items_Available      \u001b[3m\u001b[90m<int>\u001b[39m\u001b[23m 1961, 1752, 1609, 1748, 2111, 1733, 1858, 1507, 1~\n",
      "$ Daily_Customer_Count \u001b[3m\u001b[90m<int>\u001b[39m\u001b[23m 530, 210, 720, 620, 450, 760, 1030, 1020, 680, 11~\n",
      "$ Store_Sales          \u001b[3m\u001b[90m<int>\u001b[39m\u001b[23m 66490, 39820, 54010, 53730, 46620, 45260, 72240, ~\n"
     ]
    }
   ],
   "source": [
    "glimpse(Store_data)"
   ]
  },
  {
   "cell_type": "markdown",
   "id": "b735723f",
   "metadata": {},
   "source": [
    "### Data cleaning"
   ]
  },
  {
   "cell_type": "code",
   "execution_count": 5,
   "id": "f9d83bfa",
   "metadata": {
    "scrolled": true
   },
   "outputs": [
    {
     "data": {
      "text/html": [
       "FALSE"
      ],
      "text/latex": [
       "FALSE"
      ],
      "text/markdown": [
       "FALSE"
      ],
      "text/plain": [
       "[1] FALSE"
      ]
     },
     "metadata": {},
     "output_type": "display_data"
    }
   ],
   "source": [
    "# check NULL\n",
    "is.null(Store_data)"
   ]
  },
  {
   "cell_type": "code",
   "execution_count": 6,
   "id": "52cdedd6",
   "metadata": {},
   "outputs": [],
   "source": [
    "# Data cleaning delete duplicate\n",
    "Store_data_completed <- Store_data[!duplicated(Store_data), ]"
   ]
  },
  {
   "cell_type": "code",
   "execution_count": 7,
   "id": "6eabaf91",
   "metadata": {},
   "outputs": [
    {
     "data": {
      "text/plain": [
       "  ï..Store.ID      Store_Area   Items_Available Daily_Customer_Count\n",
       " Min.   :  1.0   Min.   : 775   Min.   : 932    Min.   :  10.0      \n",
       " 1st Qu.:224.8   1st Qu.:1317   1st Qu.:1576    1st Qu.: 600.0      \n",
       " Median :448.5   Median :1477   Median :1774    Median : 780.0      \n",
       " Mean   :448.5   Mean   :1485   Mean   :1782    Mean   : 786.4      \n",
       " 3rd Qu.:672.2   3rd Qu.:1654   3rd Qu.:1983    3rd Qu.: 970.0      \n",
       " Max.   :896.0   Max.   :2229   Max.   :2667    Max.   :1560.0      \n",
       "  Store_Sales    \n",
       " Min.   : 14920  \n",
       " 1st Qu.: 46530  \n",
       " Median : 58605  \n",
       " Mean   : 59351  \n",
       " 3rd Qu.: 71873  \n",
       " Max.   :116320  "
      ]
     },
     "metadata": {},
     "output_type": "display_data"
    }
   ],
   "source": [
    "# check the summary of Store_data_completed\n",
    "Store_data <- Store_data_completed\n",
    "summary(Store_data)"
   ]
  },
  {
   "cell_type": "markdown",
   "id": "91884c05",
   "metadata": {},
   "source": [
    "### Data Analysis"
   ]
  },
  {
   "cell_type": "markdown",
   "id": "321d0882",
   "metadata": {},
   "source": [
    "#### Analysis, Store_Area with Store_Sales"
   ]
  },
  {
   "cell_type": "code",
   "execution_count": 8,
   "id": "0f476c44",
   "metadata": {},
   "outputs": [],
   "source": [
    "a=Store_data %>%\n",
    "  group_by(Store_Area) %>%\n",
    "  summarise(Total=sum(Store_Sales))\n",
    "a=arrange(a,-a$Total)"
   ]
  },
  {
   "cell_type": "code",
   "execution_count": 9,
   "id": "2c23e231",
   "metadata": {},
   "outputs": [
    {
     "data": {
      "image/png": "[encoded data removed]",
      "text/plain": [
       "plot without title"
      ]
     },
     "metadata": {
      "image/png": {
       "height": 420,
       "width": 420
      }
     },
     "output_type": "display_data"
    }
   ],
   "source": [
    "# data visualization on Top20 Sales of Store_Area\n",
    "a_top20 = a %>% slice(1:20)\n",
    "\n",
    "ggplot(data=a_top20, aes(x=Store_Area, y=Total)) +\n",
    "  geom_bar(stat=\"identity\", color=\"blue\", fill=\"white\",width=0.5) +\n",
    "  labs(x=\"Store_Area\", title=\"Top20 Sales of Store_Area\")"
   ]
  },
  {
   "cell_type": "markdown",
   "id": "b79a060f",
   "metadata": {},
   "source": [
    "### Analysis, Items_Available with Daily_Customer_Count\n",
    "\n",
    "Since there is no lead time information, cannot directly calculate the Safety Inventory\n",
    "\n",
    "The Daily_Customer_Count is a index to show the demand of products, inventory/Daily_Customer_Count considers as a criteria to evaluate the inventory level\n"
   ]
  },
  {
   "cell_type": "code",
   "execution_count": 10,
   "id": "7eec21bb",
   "metadata": {},
   "outputs": [
    {
     "data": {
      "text/html": [
       "2.83634228795644"
      ],
      "text/latex": [
       "2.83634228795644"
      ],
      "text/markdown": [
       "2.83634228795644"
      ],
      "text/plain": [
       "[1] 2.836342"
      ]
     },
     "metadata": {},
     "output_type": "display_data"
    }
   ],
   "source": [
    "mean((Store_data$Items_Available)/(Store_data$Daily_Customer_Count))"
   ]
  },
  {
   "cell_type": "code",
   "execution_count": 11,
   "id": "a1f2be46",
   "metadata": {},
   "outputs": [],
   "source": [
    "# Let's consider equal or above 3 is great inventory status,1.5-3 is normal inventory status, less than 1.5 is lack inventory status.\n",
    "Store_data$Inventory_Rate <- (Store_data$Items_Available)/(Store_data$Daily_Customer_Count)\n",
    "Store_data$Inventory_Statu <- case_when( Store_data$Inventory_Rate >=3 ~'Great',\n",
    "                                         Store_data$Inventory_Rate >=1.5 ~'Normal',\n",
    "                                         TRUE ~ 'Lack')"
   ]
  },
  {
   "cell_type": "code",
   "execution_count": 12,
   "id": "0dc906a8",
   "metadata": {},
   "outputs": [
    {
     "data": {
      "image/png": "[encoded data removed]",
      "text/plain": [
       "plot without title"
      ]
     },
     "metadata": {
      "image/png": {
       "height": 420,
       "width": 420
      }
     },
     "output_type": "display_data"
    }
   ],
   "source": [
    "b=Store_data %>%\n",
    "  group_by(Inventory_Statu) %>%\n",
    "  summarise(Total=n())\n",
    "# Bar plot of Different Inventory_Status\n",
    "ggplot(b, aes(x=Inventory_Statu, y=Total, fill=Inventory_Statu)) +\n",
    "  geom_bar(stat=\"identity\")+\n",
    "  geom_text(aes(label=scales::percent(Total/length(Store_data$Items_Available), accuracy = 0.01)), vjust=1.6, color=\"white\", size=3.5)+\n",
    "  theme_minimal()"
   ]
  },
  {
   "cell_type": "markdown",
   "id": "cc85f75f",
   "metadata": {},
   "source": [
    "### Data Visiulization of Inventory_Rate"
   ]
  },
  {
   "cell_type": "code",
   "execution_count": 13,
   "id": "f531631b",
   "metadata": {},
   "outputs": [
    {
     "data": {
      "image/png": "[encoded data removed]",
      "text/plain": [
       "plot without title"
      ]
     },
     "metadata": {
      "image/png": {
       "height": 420,
       "width": 420
      }
     },
     "output_type": "display_data"
    }
   ],
   "source": [
    "# density plots of Inventory_Rate\n",
    "c <- Store_data [which(Store_data$Inventory_Rate<=10),]\n",
    "ggplot(c, aes(x=Inventory_Rate)) + \n",
    "  geom_histogram(aes(y=..density..),binwidth=.5,colour=\"black\", fill=\"white\") +\n",
    "  geom_density(alpha=0.2, fill='blue')"
   ]
  },
  {
   "cell_type": "code",
   "execution_count": 14,
   "id": "e4027070",
   "metadata": {},
   "outputs": [
    {
     "data": {
      "image/png": "[encoded data removed]",
      "text/plain": [
       "plot without title"
      ]
     },
     "metadata": {
      "image/png": {
       "height": 420,
       "width": 420
      }
     },
     "output_type": "display_data"
    }
   ],
   "source": [
    "# Box Plot of Inventory_Rate\n",
    "ggplot(c, aes(x=Inventory_Statu, y=Inventory_Rate, fill=Inventory_Statu)) + geom_boxplot() +\n",
    "  guides(fill=\"none\")"
   ]
  },
  {
   "cell_type": "markdown",
   "id": "3e24c6e9",
   "metadata": {},
   "source": [
    "### Details of Inventory_Rate products"
   ]
  },
  {
   "cell_type": "code",
   "execution_count": 15,
   "id": "3a7167ea",
   "metadata": {},
   "outputs": [
    {
     "data": {
      "text/plain": [
       "  ï..Store.ID      Store_Area   Items_Available Daily_Customer_Count\n",
       " Min.   :  2.0   Min.   :1156   Min.   :1398    Min.   : 10.0       \n",
       " 1st Qu.:214.5   1st Qu.:1464   1st Qu.:1756    1st Qu.:225.0       \n",
       " Median :503.0   Median :1624   Median :1968    Median :310.0       \n",
       " Mean   :465.8   Mean   :1639   Mean   :1968    Mean   :287.8       \n",
       " 3rd Qu.:686.5   3rd Qu.:1824   3rd Qu.:2197    3rd Qu.:355.0       \n",
       " Max.   :888.0   Max.   :2044   Max.   :2474    Max.   :450.0       \n",
       "  Store_Sales    Inventory_Rate    Inventory_Statu   \n",
       " Min.   :32330   Min.   :  5.030   Length:51         \n",
       " 1st Qu.:53790   1st Qu.:  5.566   Class :character  \n",
       " Median :63850   Median :  6.752   Mode  :character  \n",
       " Mean   :63886   Mean   : 10.428                     \n",
       " 3rd Qu.:77550   3rd Qu.:  7.830                     \n",
       " Max.   :92370   Max.   :151.600                     "
      ]
     },
     "metadata": {},
     "output_type": "display_data"
    }
   ],
   "source": [
    "# Analyze large Inventory_Rate products\n",
    "d <- Store_data [which(Store_data$Inventory_Rate>5),]\n",
    "summary(d)"
   ]
  },
  {
   "cell_type": "markdown",
   "id": "050fb14a",
   "metadata": {},
   "source": [
    "It is clear that large Inventory_Rate products have low demand. Should decrease inventory level of those products in the future"
   ]
  },
  {
   "cell_type": "code",
   "execution_count": 16,
   "id": "b823e05e",
   "metadata": {
    "scrolled": true
   },
   "outputs": [
    {
     "data": {
      "image/png": "[encoded data removed]",
      "text/plain": [
       "plot without title"
      ]
     },
     "metadata": {
      "image/png": {
       "height": 420,
       "width": 420
      }
     },
     "output_type": "display_data"
    }
   ],
   "source": [
    "# Analyze lack Inventory_Rate products\n",
    "e <- Store_data [which(Store_data$Inventory_Rate<1.5),]\n",
    "\n",
    "ggplot(e, aes(x = Inventory_Rate)) + \n",
    "  geom_col(aes(y = Items_Available), size = 1, color = \"black\", fill = \"white\") +\n",
    "  geom_col(aes(y = Daily_Customer_Count), size = 1.5, color=\"red\", group = 1)\n",
    "\n",
    "\n"
   ]
  },
  {
   "cell_type": "markdown",
   "id": "78838aa7",
   "metadata": {},
   "source": [
    "It is clear that lack Inventory_Rate products have high demand and low inventory.\n",
    "\n",
    "For those lack Inventory_Rate products, should prepare sufficient inventory."
   ]
  },
  {
   "cell_type": "markdown",
   "id": "0260542f",
   "metadata": {},
   "source": [
    "## Inventory and Product Analysis by Tableau"
   ]
  },
  {
   "cell_type": "markdown",
   "id": "4e136b73",
   "metadata": {},
   "source": [
    "<div class='tableauPlaceholder' id='viz1659370860935' style='position: relative'><noscript><a href='#'><img alt='Dashboard 1 ' src='https:&#47;&#47;public.tableau.com&#47;static&#47;images&#47;Ta&#47;TableauAnalysis_16593708175350&#47;Dashboard1&#47;1_rss.png' style='border: none' /></a></noscript><object class='tableauViz'  style='display:none;'><param name='host_url' value='https%3A%2F%2Fpublic.tableau.com%2F' /> <param name='embed_code_version' value='3' /> <param name='site_root' value='' /><param name='name' value='TableauAnalysis_16593708175350&#47;Dashboard1' /><param name='tabs' value='no' /><param name='toolbar' value='yes' /><param name='static_image' value='https:&#47;&#47;public.tableau.com&#47;static&#47;images&#47;Ta&#47;TableauAnalysis_16593708175350&#47;Dashboard1&#47;1.png' /> <param name='animate_transition' value='yes' /><param name='display_static_image' value='yes' /><param name='display_spinner' value='yes' /><param name='display_overlay' value='yes' /><param name='display_count' value='yes' /><param name='language' value='en-US' /><param name='filter' value='publish=yes' /></object></div>                <script type='text/javascript'>                    var divElement = document.getElementById('viz1659370860935');                    var vizElement = divElement.getElementsByTagName('object')[0];                    if ( divElement.offsetWidth > 800 ) { vizElement.style.width='1200px';vizElement.style.height='1027px';} else if ( divElement.offsetWidth > 500 ) { vizElement.style.width='1200px';vizElement.style.height='1027px';} else { vizElement.style.width='100%';vizElement.style.height='1627px';}                     var scriptElement = document.createElement('script');                    scriptElement.src = 'https://public.tableau.com/javascripts/api/viz_v1.js';                    vizElement.parentNode.insertBefore(scriptElement, vizElement);                </script>"
   ]
  },
  {
   "cell_type": "markdown",
   "id": "5fda597d",
   "metadata": {},
   "source": [
    "Tableau Link: https://public.tableau.com/app/profile/jie.jian4826/viz/TableauAnalysis_16593708175350/Dashboard1"
   ]
  }
 ],
 "metadata": {
  "kernelspec": {
   "display_name": "R",
   "language": "R",
   "name": "ir"
  },
  "language_info": {
   "codemirror_mode": "r",
   "file_extension": ".r",
   "mimetype": "text/x-r-source",
   "name": "R",
   "pygments_lexer": "r",
   "version": "4.1.3"
  }
 },
 "nbformat": 4,
 "nbformat_minor": 5
}
